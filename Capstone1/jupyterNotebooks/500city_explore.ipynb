{
 "cells": [
  {
   "cell_type": "markdown",
   "metadata": {},
   "source": [
    "## 500city_explore - Exploring the data from 500 cities data set"
   ]
  },
  {
   "cell_type": "code",
   "execution_count": 1,
   "metadata": {
    "collapsed": true
   },
   "outputs": [],
   "source": [
    "import pandas as pd\n",
    "import numpy as np\n",
    "import matplotlib.pyplot as plt\n",
    "import seaborn as sns"
   ]
  },
  {
   "cell_type": "markdown",
   "metadata": {},
   "source": [
    "## Import cleansed data sets"
   ]
  },
  {
   "cell_type": "code",
   "execution_count": 19,
   "metadata": {},
   "outputs": [],
   "source": [
    "data = pd.read_csv('../data/cleansed/data.csv',index_col=0,header=[0,1])\n",
    "locations = pd.read_csv('../data/cleansed/locations.csv',index_col=0)"
   ]
  },
  {
   "cell_type": "code",
   "execution_count": 20,
   "metadata": {},
   "outputs": [
    {
     "data": {
      "text/html": [
       "<div>\n",
       "<style>\n",
       "    .dataframe thead tr:only-child th {\n",
       "        text-align: right;\n",
       "    }\n",
       "\n",
       "    .dataframe thead th {\n",
       "        text-align: left;\n",
       "    }\n",
       "\n",
       "    .dataframe tbody tr th {\n",
       "        vertical-align: top;\n",
       "    }\n",
       "</style>\n",
       "<table border=\"1\" class=\"dataframe\">\n",
       "  <thead>\n",
       "    <tr style=\"text-align: right;\">\n",
       "      <th></th>\n",
       "      <th>uniqueid</th>\n",
       "      <th>stateabbr</th>\n",
       "      <th>cityname</th>\n",
       "      <th>geographiclevel</th>\n",
       "      <th>tractfips</th>\n",
       "      <th>cityfips</th>\n",
       "      <th>statedesc</th>\n",
       "      <th>latitude</th>\n",
       "      <th>longitude</th>\n",
       "    </tr>\n",
       "  </thead>\n",
       "  <tbody>\n",
       "    <tr>\n",
       "      <th>6325</th>\n",
       "      <td>0107000</td>\n",
       "      <td>AL</td>\n",
       "      <td>Birmingham</td>\n",
       "      <td>City</td>\n",
       "      <td>NaN</td>\n",
       "      <td>107000.0</td>\n",
       "      <td>Alabama</td>\n",
       "      <td>-86.798817</td>\n",
       "      <td>33.527566</td>\n",
       "    </tr>\n",
       "    <tr>\n",
       "      <th>40098</th>\n",
       "      <td>0107000-01073000100</td>\n",
       "      <td>AL</td>\n",
       "      <td>Birmingham</td>\n",
       "      <td>Census Tract</td>\n",
       "      <td>1.073000e+09</td>\n",
       "      <td>107000.0</td>\n",
       "      <td>Alabama</td>\n",
       "      <td>-86.722832</td>\n",
       "      <td>33.579433</td>\n",
       "    </tr>\n",
       "    <tr>\n",
       "      <th>2125</th>\n",
       "      <td>0107000-01073000300</td>\n",
       "      <td>AL</td>\n",
       "      <td>Birmingham</td>\n",
       "      <td>Census Tract</td>\n",
       "      <td>1.073000e+09</td>\n",
       "      <td>107000.0</td>\n",
       "      <td>Alabama</td>\n",
       "      <td>-86.752434</td>\n",
       "      <td>33.542821</td>\n",
       "    </tr>\n",
       "    <tr>\n",
       "      <th>20523</th>\n",
       "      <td>0107000-01073000400</td>\n",
       "      <td>AL</td>\n",
       "      <td>Birmingham</td>\n",
       "      <td>Census Tract</td>\n",
       "      <td>1.073000e+09</td>\n",
       "      <td>107000.0</td>\n",
       "      <td>Alabama</td>\n",
       "      <td>-86.764047</td>\n",
       "      <td>33.563245</td>\n",
       "    </tr>\n",
       "    <tr>\n",
       "      <th>1727</th>\n",
       "      <td>0107000-01073000500</td>\n",
       "      <td>AL</td>\n",
       "      <td>Birmingham</td>\n",
       "      <td>Census Tract</td>\n",
       "      <td>1.073000e+09</td>\n",
       "      <td>107000.0</td>\n",
       "      <td>Alabama</td>\n",
       "      <td>-86.774913</td>\n",
       "      <td>33.544240</td>\n",
       "    </tr>\n",
       "  </tbody>\n",
       "</table>\n",
       "</div>"
      ],
      "text/plain": [
       "                  uniqueid stateabbr    cityname geographiclevel  \\\n",
       "6325               0107000        AL  Birmingham            City   \n",
       "40098  0107000-01073000100        AL  Birmingham    Census Tract   \n",
       "2125   0107000-01073000300        AL  Birmingham    Census Tract   \n",
       "20523  0107000-01073000400        AL  Birmingham    Census Tract   \n",
       "1727   0107000-01073000500        AL  Birmingham    Census Tract   \n",
       "\n",
       "          tractfips  cityfips statedesc   latitude  longitude  \n",
       "6325            NaN  107000.0   Alabama -86.798817  33.527566  \n",
       "40098  1.073000e+09  107000.0   Alabama -86.722832  33.579433  \n",
       "2125   1.073000e+09  107000.0   Alabama -86.752434  33.542821  \n",
       "20523  1.073000e+09  107000.0   Alabama -86.764047  33.563245  \n",
       "1727   1.073000e+09  107000.0   Alabama -86.774913  33.544240  "
      ]
     },
     "execution_count": 20,
     "metadata": {},
     "output_type": "execute_result"
    }
   ],
   "source": [
    "locations.head()"
   ]
  },
  {
   "cell_type": "code",
   "execution_count": null,
   "metadata": {
    "collapsed": true
   },
   "outputs": [],
   "source": []
  }
 ],
 "metadata": {
  "kernelspec": {
   "display_name": "Python 3",
   "language": "python",
   "name": "python3"
  },
  "language_info": {
   "codemirror_mode": {
    "name": "ipython",
    "version": 3
   },
   "file_extension": ".py",
   "mimetype": "text/x-python",
   "name": "python",
   "nbconvert_exporter": "python",
   "pygments_lexer": "ipython3",
   "version": "3.6.1"
  }
 },
 "nbformat": 4,
 "nbformat_minor": 2
}
