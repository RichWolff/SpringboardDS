{
 "cells": [
  {
   "cell_type": "markdown",
   "metadata": {},
   "source": [
    "<h2>Create a book x book matrix with cosine similarities as their intersection values</h2>"
   ]
  },
  {
   "cell_type": "code",
   "execution_count": null,
   "metadata": {
    "collapsed": true
   },
   "outputs": [],
   "source": [
    "book_adj_matrix = user_adj_matrix.T\n",
    "book_sims = cosine_similarity(book_adj_matrix,dense_output=False)\n",
    "book_sims.setdiag(0)\n",
    "book_sims_coo = book_sims.tocoo()"
   ]
  },
  {
   "cell_type": "code",
   "execution_count": null,
   "metadata": {
    "collapsed": true
   },
   "outputs": [],
   "source": [
    "def bk_mtx_ind(coo_mtx):\n",
    "    '''Loop through coordinate matrix rows and store the idx location of values in a dictionary\n",
    "       dict[row].append(idx) \n",
    "       \n",
    "       This will allow for fast lookups later vs looping through a 300MM list thousands of times later\n",
    "       \n",
    "       Move complexity from O(n^2) to O(N) (iterate matrix rows once, N every lookup is O(1) in python dicts)\n",
    "    '''  \n",
    "    bk_mtx_lkup = defaultdict(list)\n",
    "    \n",
    "    for i,bk in enumerate(coo_mtx.row):\n",
    "        bk_mtx_lkup[bk].append(i)\n",
    "        \n",
    "    return bk_mtx_lkup\n",
    "\n",
    "b = dt.datetime.now()\n",
    "bk_mtx_lkup = bk_mtx_ind(coo_mtx=book_sims_coo)\n",
    "print(dt.datetime.now() - b)"
   ]
  },
  {
   "cell_type": "code",
   "execution_count": null,
   "metadata": {
    "collapsed": true
   },
   "outputs": [],
   "source": [
    "def book_collab_filter(selected_user,node_list,book_matrix,book_matrix_lookup,top_n_similarities):\n",
    "    \n",
    "    def node_similiarities(nodes, node_list, matrix,book_matrix_lookup): #### O(n^2), can i reduce this?\n",
    "        '''Creates a numpy array of node similiarities (user or books)'''\n",
    "        nodes_sim = defaultdict(list)\n",
    "        \n",
    "        # find the positions of all the books read by the user\n",
    "        book_positions = np.where(np.isin(node_list,nodes))[0]\n",
    "        \n",
    "        #For each data point from node, append value book to dictionary key cosine similarity\n",
    "        for i,pos in enumerate(book_positions):\n",
    "            for idx in book_matrix_lookup[pos]:\n",
    "                bk = node_list[matrix.col[idx]]\n",
    "                if not bk in nodes:\n",
    "                    nodes_sim[matrix.data[idx]].append(bk)\n",
    "                \n",
    "        return nodes_sim\n",
    "    \n",
    "    def user_neighbor_books(book_similarity_dict, top_n_similarities,user_read_books):\n",
    "        '''accepts a 2d array with users in the first column and similarities in the 2nd\n",
    "           returns top 10 books with scores'''\n",
    "        books = defaultdict(lambda: defaultdict(float))\n",
    "        for key in sorted(book_similarity_dict.keys(),reverse=True)[:top_n_similarities]:\n",
    "            for bk in book_similarity_dict[key]:\n",
    "                if not bk in user_read_books:\n",
    "                    books[bk]['count'] += 1\n",
    "                    books[bk]['cosine'] += key\n",
    "                    books[bk]['avg_cosine'] = books[bk]['cosine']/books[bk]['count']  \n",
    "                    books[bk]['avg_rating'] = books[bk]['rating']/books[bk]['count']\n",
    "        return books\n",
    "    \n",
    "    def books_dict_to_df(books_list):\n",
    "        books_list = [(b,\n",
    "               d['avg_rating'],        \n",
    "               d['avg_cosine'],\n",
    "               d['count'],\n",
    "               d['cosine']) for b,d in zip(book_books_df.keys(),book_books_df.values())]\n",
    "        df_columns = ['book','avg_rating','avg_cosine','book_count','cosines']\n",
    "        return pd.DataFrame(books_list,columns=df_columns)\n",
    "    \n",
    "    ## return top cosine similarities books based on books user read\n",
    "    \n",
    "    ## For books user read\n",
    "        # Get books with high cosine similarities to each book\n",
    "        # count and store in dict/data frame\n",
    "\n",
    "    ### GET BOOK LIST\n",
    "    dfa = defaultdict(list)\n",
    "    user_read_books = set(G.neighbors(selected_user))\n",
    "    for x in list(user_read_books):\n",
    "        dfa[G[selected_user][x]['Book-Rating']].append(x)  \n",
    "        \n",
    "    top_5_keys = sorted(dfa.keys())[-1::]\n",
    "    top_5_rated_books = []\n",
    "    for x in top_5_keys:\n",
    "        top_5_rated_books += dfa[x]\n",
    "    \n",
    "    \n",
    "    book_sims_nodes = node_similiarities(np.array(top_5_rated_books),node_list,book_matrix,book_matrix_lookup)\n",
    "    \n",
    "    book_books_df = user_neighbor_books(book_similarity_dict=book_sims_nodes,\n",
    "                                        top_n_similarities=top_n_similarities,user_read_books=user_read_books)\n",
    "    \n",
    "    return books_dict_to_df(book_books_df).set_index('book')"
   ]
  },
  {
   "cell_type": "code",
   "execution_count": null,
   "metadata": {
    "collapsed": true
   },
   "outputs": [],
   "source": [
    "selected_user = 153662\n",
    "res = book_collab_filter(selected_user,books_arr,book_sims_coo,bk_mtx_lkup,20)"
   ]
  },
  {
   "cell_type": "code",
   "execution_count": null,
   "metadata": {
    "collapsed": true
   },
   "outputs": [],
   "source": [
    "# Pull actual purchases\n",
    "sel_user_actual = ratings_us_test[ratings_us_test['User-ID']==selected_user]['ISBN'].to_frame()\n",
    "sel_user_actual['read'] = 1"
   ]
  },
  {
   "cell_type": "code",
   "execution_count": null,
   "metadata": {
    "collapsed": true
   },
   "outputs": [],
   "source": [
    "# TOP N Recommendation based on cosines\n",
    "n_recommendations = 15\n",
    "reco_test = res.sort_values(['book_count','avg_cosine'],ascending=False).head(n_recommendations).join(sel_user_actual.set_index('ISBN'))\n",
    "reco_test"
   ]
  },
  {
   "cell_type": "code",
   "execution_count": null,
   "metadata": {
    "collapsed": true
   },
   "outputs": [],
   "source": [
    "top_n_cosines = 50 \n",
    "n_recommendations = 15\n",
    "test_ratings_user_count = 50\n",
    "\n",
    "test_ratings_user_valcount = ratings_us_test['User-ID'].value_counts()\n",
    "filtered_test_ratings = test_ratings_user_valcount[test_ratings_user_valcount>test_ratings_user_count]\n",
    "users_to_test = filtered_test_ratings.index.values\n",
    "\n",
    "metrics = np.empty(len(users_to_test))\n",
    "\n",
    "for i,sel_user in enumerate(users_to_test):\n",
    "    recommended_books = collaborative_filter(sel_user,user_arr,user_sims_coo,top_n_cosines)\n",
    "    sel_user_actual = ratings_us_test[ratings_us_test['User-ID']==sel_user]['ISBN'].to_frame()\n",
    "    sel_user_actual['read'] = 1\n",
    "    reco_test = recommended_books.sort_values(['cosines','avg_rating'],ascending=False).head(n_recommendations).join(sel_user_actual.set_index('ISBN'))\n",
    "    metrics[i] = np.sum(reco_test['read'])/n_recommendations"
   ]
  },
  {
   "cell_type": "code",
   "execution_count": null,
   "metadata": {
    "collapsed": true
   },
   "outputs": [],
   "source": [
    "def user_book_cosines(usr):\n",
    "    read_books = list(G[usr])\n",
    "    books = defaultdict(lambda: defaultdict(float))\n",
    "    for bk in read_books:\n",
    "        book_nodes,book_scores = node_similiarities(bk,books_arr,book_sims_coo)\n",
    "        for book,score in zip(book_nodes,book_scores):\n",
    "            books[book]['cosine_total'] +=score\n",
    "            books[book]['count'] += 1\n",
    "            books[book]['avg_cosine'] = books[book]['cosine_total']/books[book]['count']\n",
    "        \n",
    "    return books\n",
    "\n",
    "book_list = user_book_cosines(selected_user)\n",
    "book_list = [(b,\n",
    "               d['cosine_total'],\n",
    "               d['count'],\n",
    "               d['avg_cosine']) for b,d in zip(book_list.keys(),book_list.values())]\n",
    "book_book_df = pd.DataFrame(book_list,columns=['book','book_book_cosine','book_book_count','book_book_avgcosine'])\n",
    "book_book_df.sort_values('book_book_count',ascending=False,inplace=True)\n",
    "book_book_df.set_index('book',inplace=True)\n"
   ]
  },
  {
   "cell_type": "markdown",
   "metadata": {},
   "source": [
    "<h2>Build books into dataframe</h2>"
   ]
  },
  {
   "cell_type": "code",
   "execution_count": null,
   "metadata": {
    "collapsed": true
   },
   "outputs": [],
   "source": [
    "tst = book_reco.join(book_book_df,how='outer')\n",
    "\n",
    "np.percentile(tst['avg_user_cosines'].fillna(0),99.9) #book_book_avgcosine, #avg_user_cosines"
   ]
  },
  {
   "cell_type": "code",
   "execution_count": null,
   "metadata": {
    "collapsed": true
   },
   "outputs": [],
   "source": [
    "sel_user_actual = ratings_us_test[ratings_us_test['User-ID']==selected_user]['ISBN'].to_frame()\n",
    "sel_user_actual['read'] = 1\n",
    "tst1 = tst.join(sel_user_actual.set_index('ISBN'),how='outer')\n",
    "np.sum(tst1['read']>0)/len(tst1)"
   ]
  },
  {
   "cell_type": "code",
   "execution_count": null,
   "metadata": {
    "collapsed": true
   },
   "outputs": [],
   "source": [
    "book_reco_filtered = book_reco[book_reco['user_count'] >= 10]\n",
    "book_reco_filtered['avg_user_cosine'] = book_reco_filtered['user_cosines']/book_reco_filtered['user_count']\n",
    "top_10_books = set(book_reco_filtered.sort_values('avg_user_cosine',ascending=False).iloc[:10]['book'])\n",
    "top_10_books.intersection(set(ratings_us_test[ratings_us_test['User-ID']==selected_user].sort_values('ISBN')['ISBN']))\n",
    "#top_10_books"
   ]
  },
  {
   "cell_type": "code",
   "execution_count": null,
   "metadata": {
    "collapsed": true
   },
   "outputs": [],
   "source": []
  },
  {
   "cell_type": "code",
   "execution_count": null,
   "metadata": {
    "collapsed": true
   },
   "outputs": [],
   "source": []
  },
  {
   "cell_type": "code",
   "execution_count": null,
   "metadata": {
    "collapsed": true
   },
   "outputs": [],
   "source": []
  }
 ],
 "metadata": {
  "kernelspec": {
   "display_name": "Python 3",
   "language": "python",
   "name": "python3"
  },
  "language_info": {
   "codemirror_mode": {
    "name": "ipython",
    "version": 3
   },
   "file_extension": ".py",
   "mimetype": "text/x-python",
   "name": "python",
   "nbconvert_exporter": "python",
   "pygments_lexer": "ipython3",
   "version": "3.6.1"
  }
 },
 "nbformat": 4,
 "nbformat_minor": 2
}
