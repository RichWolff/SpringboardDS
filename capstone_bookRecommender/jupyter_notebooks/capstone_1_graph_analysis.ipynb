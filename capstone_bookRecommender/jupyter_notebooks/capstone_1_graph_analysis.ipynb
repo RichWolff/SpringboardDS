{
 "cells": [
  {
   "cell_type": "code",
   "execution_count": 1,
   "metadata": {},
   "outputs": [],
   "source": [
    "import pandas as pd\n",
    "import numpy as np\n",
    "import networkx as nx\n",
    "from nxviz.plots import ArcPlot,CircosPlot,MatrixPlot\n",
    "import re\n",
    "import datetime as dt\n",
    "\n",
    "import matplotlib.pyplot as plt\n",
    "\n",
    "#import plotly for interactive chart\n",
    "#import plotly.plotly as py\n",
    "#from plotly.graph_objs import *\n",
    "\n",
    "from sklearn.metrics.pairwise import cosine_similarity\n",
    "\n",
    "from collections import defaultdict\n",
    "%matplotlib inline"
   ]
  },
  {
   "cell_type": "markdown",
   "metadata": {},
   "source": [
    "<h2>Load books into dataframe</h2>"
   ]
  },
  {
   "cell_type": "code",
   "execution_count": 2,
   "metadata": {},
   "outputs": [],
   "source": [
    "d = defaultdict(list)\n",
    "\n",
    "strtofind = r'\";\"'\n",
    "with open('../data/raw/BX-Books.csv','r',encoding='8859') as file:\n",
    "    for i,line in enumerate(file):\n",
    "        d[i] = re.sub(strtofind,'||',line.replace('&amp;','&')).replace('\"','').replace('\\n','').split('||')\n",
    "        \n",
    "books_df = pd.DataFrame(data=list(d.values())[1:],index=list(d.keys())[1:],columns=d[0])\n",
    "books_df.head()\n",
    "\n",
    "del d"
   ]
  },
  {
   "cell_type": "markdown",
   "metadata": {},
   "source": [
    "<H2> Load Users Into DF </H2>"
   ]
  },
  {
   "cell_type": "code",
   "execution_count": 3,
   "metadata": {},
   "outputs": [
    {
     "data": {
      "text/html": [
       "<div>\n",
       "<style scoped>\n",
       "    .dataframe tbody tr th:only-of-type {\n",
       "        vertical-align: middle;\n",
       "    }\n",
       "\n",
       "    .dataframe tbody tr th {\n",
       "        vertical-align: top;\n",
       "    }\n",
       "\n",
       "    .dataframe thead th {\n",
       "        text-align: right;\n",
       "    }\n",
       "</style>\n",
       "<table border=\"1\" class=\"dataframe\">\n",
       "  <thead>\n",
       "    <tr style=\"text-align: right;\">\n",
       "      <th></th>\n",
       "      <th>User-ID</th>\n",
       "      <th>Location</th>\n",
       "      <th>Age</th>\n",
       "    </tr>\n",
       "  </thead>\n",
       "  <tbody>\n",
       "    <tr>\n",
       "      <th>278853</th>\n",
       "      <td>278854</td>\n",
       "      <td>portland, oregon, usa</td>\n",
       "      <td>NaN</td>\n",
       "    </tr>\n",
       "    <tr>\n",
       "      <th>278854</th>\n",
       "      <td>278855</td>\n",
       "      <td>tacoma, washington, united kingdom</td>\n",
       "      <td>50.0</td>\n",
       "    </tr>\n",
       "    <tr>\n",
       "      <th>278855</th>\n",
       "      <td>278856</td>\n",
       "      <td>brampton, ontario, canada</td>\n",
       "      <td>NaN</td>\n",
       "    </tr>\n",
       "    <tr>\n",
       "      <th>278856</th>\n",
       "      <td>278857</td>\n",
       "      <td>knoxville, tennessee, usa</td>\n",
       "      <td>NaN</td>\n",
       "    </tr>\n",
       "    <tr>\n",
       "      <th>278857</th>\n",
       "      <td>278858</td>\n",
       "      <td>dublin, n/a, ireland</td>\n",
       "      <td>NaN</td>\n",
       "    </tr>\n",
       "  </tbody>\n",
       "</table>\n",
       "</div>"
      ],
      "text/plain": [
       "        User-ID                            Location   Age\n",
       "278853   278854               portland, oregon, usa   NaN\n",
       "278854   278855  tacoma, washington, united kingdom  50.0\n",
       "278855   278856           brampton, ontario, canada   NaN\n",
       "278856   278857           knoxville, tennessee, usa   NaN\n",
       "278857   278858                dublin, n/a, ireland   NaN"
      ]
     },
     "execution_count": 3,
     "metadata": {},
     "output_type": "execute_result"
    }
   ],
   "source": [
    "## Load users file and display first 5 rows\n",
    "users_df = pd.read_csv('../data/raw/BX-Users.csv',sep=';',encoding='8859')\n",
    "users_df.tail(5)"
   ]
  },
  {
   "cell_type": "markdown",
   "metadata": {},
   "source": [
    "<h2>Load User Ratings Of Books</h2>"
   ]
  },
  {
   "cell_type": "code",
   "execution_count": 4,
   "metadata": {},
   "outputs": [
    {
     "data": {
      "text/html": [
       "<div>\n",
       "<style scoped>\n",
       "    .dataframe tbody tr th:only-of-type {\n",
       "        vertical-align: middle;\n",
       "    }\n",
       "\n",
       "    .dataframe tbody tr th {\n",
       "        vertical-align: top;\n",
       "    }\n",
       "\n",
       "    .dataframe thead th {\n",
       "        text-align: right;\n",
       "    }\n",
       "</style>\n",
       "<table border=\"1\" class=\"dataframe\">\n",
       "  <thead>\n",
       "    <tr style=\"text-align: right;\">\n",
       "      <th></th>\n",
       "      <th>User-ID</th>\n",
       "      <th>ISBN</th>\n",
       "      <th>Book-Rating</th>\n",
       "    </tr>\n",
       "  </thead>\n",
       "  <tbody>\n",
       "    <tr>\n",
       "      <th>9561</th>\n",
       "      <td>2</td>\n",
       "      <td>0195153448</td>\n",
       "      <td>0</td>\n",
       "    </tr>\n",
       "    <tr>\n",
       "      <th>9562</th>\n",
       "      <td>7</td>\n",
       "      <td>034542252</td>\n",
       "      <td>0</td>\n",
       "    </tr>\n",
       "    <tr>\n",
       "      <th>9572</th>\n",
       "      <td>8</td>\n",
       "      <td>0771025661</td>\n",
       "      <td>0</td>\n",
       "    </tr>\n",
       "    <tr>\n",
       "      <th>9580</th>\n",
       "      <td>8</td>\n",
       "      <td>1881320189</td>\n",
       "      <td>7</td>\n",
       "    </tr>\n",
       "    <tr>\n",
       "      <th>9579</th>\n",
       "      <td>8</td>\n",
       "      <td>1575663937</td>\n",
       "      <td>6</td>\n",
       "    </tr>\n",
       "  </tbody>\n",
       "</table>\n",
       "</div>"
      ],
      "text/plain": [
       "      User-ID        ISBN  Book-Rating\n",
       "9561        2  0195153448            0\n",
       "9562        7   034542252            0\n",
       "9572        8  0771025661            0\n",
       "9580        8  1881320189            7\n",
       "9579        8  1575663937            6"
      ]
     },
     "execution_count": 4,
     "metadata": {},
     "output_type": "execute_result"
    }
   ],
   "source": [
    "ratings_df = pd.read_csv('../data/raw/BX-Book-Ratings.csv',sep=';',encoding='8859',dtype={'Book-Rating':np.int}).sort_values('User-ID')\n",
    "ratings_df.head()"
   ]
  },
  {
   "cell_type": "code",
   "execution_count": 5,
   "metadata": {},
   "outputs": [
    {
     "name": "stdout",
     "output_type": "stream",
     "text": [
      "Unique users with reviews: 105283\n",
      "Unique books with reviews: 340556\n",
      "\n",
      "Total number of nodes: 445839\n",
      "Total number of edges: 1149780\n"
     ]
    }
   ],
   "source": [
    "print('Unique users with reviews: {}'.format(len(ratings_df['User-ID'].unique())))\n",
    "print('Unique books with reviews: {}\\n'.format(len(ratings_df['ISBN'].unique())))\n",
    "print('Total number of nodes: {}'.format(len(ratings_df['User-ID'].unique())+len(ratings_df['ISBN'].unique())))\n",
    "print('Total number of edges: {}'.format(len(ratings_df)))"
   ]
  },
  {
   "cell_type": "markdown",
   "metadata": {},
   "source": [
    "<h2>Users from different parts of the world can have very different book tastes (also books in differnet languages). In an attempt to bring the complexity of this graph down, I'll filter for users in the USA</h2>"
   ]
  },
  {
   "cell_type": "code",
   "execution_count": 6,
   "metadata": {},
   "outputs": [
    {
     "data": {
      "text/html": [
       "<div>\n",
       "<style scoped>\n",
       "    .dataframe tbody tr th:only-of-type {\n",
       "        vertical-align: middle;\n",
       "    }\n",
       "\n",
       "    .dataframe tbody tr th {\n",
       "        vertical-align: top;\n",
       "    }\n",
       "\n",
       "    .dataframe thead th {\n",
       "        text-align: right;\n",
       "    }\n",
       "</style>\n",
       "<table border=\"1\" class=\"dataframe\">\n",
       "  <thead>\n",
       "    <tr style=\"text-align: right;\">\n",
       "      <th></th>\n",
       "      <th>User-ID</th>\n",
       "      <th>Location</th>\n",
       "      <th>Age</th>\n",
       "      <th>ISBN</th>\n",
       "      <th>Book-Rating</th>\n",
       "    </tr>\n",
       "  </thead>\n",
       "  <tbody>\n",
       "    <tr>\n",
       "      <th>0</th>\n",
       "      <td>2</td>\n",
       "      <td>stockton, california, usa</td>\n",
       "      <td>18.0</td>\n",
       "      <td>0195153448</td>\n",
       "      <td>0</td>\n",
       "    </tr>\n",
       "    <tr>\n",
       "      <th>1</th>\n",
       "      <td>7</td>\n",
       "      <td>washington, dc, usa</td>\n",
       "      <td>NaN</td>\n",
       "      <td>034542252</td>\n",
       "      <td>0</td>\n",
       "    </tr>\n",
       "    <tr>\n",
       "      <th>2</th>\n",
       "      <td>9</td>\n",
       "      <td>germantown, tennessee, usa</td>\n",
       "      <td>NaN</td>\n",
       "      <td>0609804618</td>\n",
       "      <td>0</td>\n",
       "    </tr>\n",
       "    <tr>\n",
       "      <th>3</th>\n",
       "      <td>9</td>\n",
       "      <td>germantown, tennessee, usa</td>\n",
       "      <td>NaN</td>\n",
       "      <td>0440234743</td>\n",
       "      <td>0</td>\n",
       "    </tr>\n",
       "    <tr>\n",
       "      <th>4</th>\n",
       "      <td>9</td>\n",
       "      <td>germantown, tennessee, usa</td>\n",
       "      <td>NaN</td>\n",
       "      <td>0452264464</td>\n",
       "      <td>6</td>\n",
       "    </tr>\n",
       "  </tbody>\n",
       "</table>\n",
       "</div>"
      ],
      "text/plain": [
       "   User-ID                    Location   Age        ISBN  Book-Rating\n",
       "0        2   stockton, california, usa  18.0  0195153448            0\n",
       "1        7         washington, dc, usa   NaN   034542252            0\n",
       "2        9  germantown, tennessee, usa   NaN  0609804618            0\n",
       "3        9  germantown, tennessee, usa   NaN  0440234743            0\n",
       "4        9  germantown, tennessee, usa   NaN  0452264464            6"
      ]
     },
     "execution_count": 6,
     "metadata": {},
     "output_type": "execute_result"
    }
   ],
   "source": [
    "usa_users = users_df[(users_df['Location'].str.contains('united states')) |(users_df['Location'].str.contains('usa'))]\n",
    "ratings_usa = usa_users.set_index('User-ID').join(ratings_df.set_index('User-ID'),how='inner').reset_index()\n",
    "ratings_usa.head()"
   ]
  },
  {
   "cell_type": "code",
   "execution_count": 8,
   "metadata": {},
   "outputs": [],
   "source": [
    "def training_test_df(df,test_size=.2,random_state=None):\n",
    "    '''Split a dataframe into two data frames split by sample_size\n",
    "       Input: df - pandas dataframe object \n",
    "              test_size - size of training set. Must be between 0 and 1'''\n",
    "    assert type(df) is pd.DataFrame, \"Argument 1 must be a dataframe\"\n",
    "    assert test_size >= 0 and test_size <=1, \"test size must be between 0 and 1\"\n",
    "    training_mask = ~df.index.isin(df.sample(frac=test_size,random_state=random_state).index)\n",
    "    test_mask = df.index.isin(df.sample(frac=test_size,random_state=random_state).index)\n",
    "    \n",
    "    training_df = df[training_mask]\n",
    "    test_df = df[test_mask]\n",
    "    \n",
    "    return training_df,test_df\n",
    "    \n",
    "ratings_us_training, ratings_us_test = training_test_df(ratings_usa)"
   ]
  },
  {
   "cell_type": "code",
   "execution_count": 9,
   "metadata": {
    "scrolled": false
   },
   "outputs": [],
   "source": [
    "#Init Graph\n",
    "G = nx.Graph()\n",
    "\n",
    "#Add book nodes. Since some ratings contain books not stored in the books data frame, we'll update the set of books \n",
    "#from the books dataframe with the unique list of books in the ratings df.\n",
    "#books = set(books_df['ISBN'])\n",
    "books = set(ratings_us_training['ISBN'].unique())\n",
    "G.add_nodes_from(books,bipartite='books')\n",
    "\n",
    "#Add user nodes\n",
    "#users = set(users_df['User-ID'])\n",
    "users = set(ratings_us_training['User-ID'].unique())\n",
    "G.add_nodes_from(users,bipartite='users')\n",
    "for i,row in ratings_us_training.iterrows():\n",
    "    G.node[row['User-ID']]['Age']=row['Age']\n",
    "\n",
    "#Add User-book\n",
    "for i, row in ratings_us_training.iterrows():\n",
    "    G.add_edge(row[0],row[3],rating=row[4])"
   ]
  },
  {
   "cell_type": "code",
   "execution_count": 11,
   "metadata": {
    "collapsed": true
   },
   "outputs": [],
   "source": [
    "# Create lists of user nodes and book nodes from graph\n",
    "nodes_from_attr = lambda G,attr,attr_value: [n for n,d in G.nodes(data=True) if d[attr] == attr_value]\n",
    "users = nodes_from_attr(G,'bipartite','users')\n",
    "books = nodes_from_attr(G,'bipartite','books')"
   ]
  },
  {
   "cell_type": "code",
   "execution_count": 12,
   "metadata": {},
   "outputs": [],
   "source": [
    "#user projection graph\n",
    "G_user = nx.bipartite.projected_graph(G,users)\n",
    "#G_books = nx.bipartite.projected_graph(G,books)"
   ]
  },
  {
   "cell_type": "code",
   "execution_count": 49,
   "metadata": {},
   "outputs": [],
   "source": [
    "#User projection graph weighted by number of neighbors (books) they share \n",
    "G_weighted_user = nx.bipartite.weighted_projected_graph(G,users)"
   ]
  },
  {
   "cell_type": "code",
   "execution_count": 70,
   "metadata": {},
   "outputs": [],
   "source": [
    "weights = defaultdict(int)\n",
    "for i,e in enumerate(G_weighted_user.edges(data=True)):\n",
    "    weights[e[2]['weight']] +=1"
   ]
  },
  {
   "cell_type": "code",
   "execution_count": 79,
   "metadata": {},
   "outputs": [
    {
     "name": "stdout",
     "output_type": "stream",
     "text": [
      "Possible edges if all users connected to all users 2795871376\n",
      "Edges between users with books in common: 6831609\n",
      "Edges between users with only 1 book in common: 5739131\n"
     ]
    }
   ],
   "source": [
    "print('Possible edges if all users connected to all users {}'.format(len(G_weighted_user.nodes())*len(G_weighted_user.nodes())))\n",
    "print('Edges between users with books in common: {}'.format(len(G_weighted_user.edges())))\n",
    "print('Edges between users with only 1 book in common: {}'.format(weights[1]))"
   ]
  },
  {
   "cell_type": "code",
   "execution_count": 77,
   "metadata": {},
   "outputs": [
    {
     "data": {
      "text/plain": [
       "2795871376"
      ]
     },
     "execution_count": 77,
     "metadata": {},
     "output_type": "execute_result"
    }
   ],
   "source": [
    "len(users)*len(users)"
   ]
  },
  {
   "cell_type": "code",
   "execution_count": 43,
   "metadata": {},
   "outputs": [],
   "source": [
    "#Get the bipartite degree centrality of the users and store that as an attribute on their nodes\n",
    "dcs = nx.bipartite.degree_centrality(G,users)\n",
    "for n in G.nodes():\n",
    "    G.node[n]['bipartite_dcs']= dcs[n]"
   ]
  },
  {
   "cell_type": "code",
   "execution_count": null,
   "metadata": {
    "collapsed": true
   },
   "outputs": [],
   "source": [
    "## Function to add cosine similarity of users to Graph\n",
    "\n",
    "def add_cosine_similarity(G,proj_G,row_order,column_order=None):\n",
    "    \n",
    "    ## Create a biadjacency matrix using graph, row order(list of nodes), and column_order (list of nodes)\n",
    "    biadjacency_matrix = nx.bipartite.biadjacency_matrix(G,row_order=row_order,column_order=column_order)\n",
    "    \n",
    "    ## Convert biadjacency_matrix to a data frame\n",
    "    df = pd.DataFrame(biadjacency_matrix.toarray(),index=row_order,columns=column_order)"
   ]
  },
  {
   "cell_type": "code",
   "execution_count": null,
   "metadata": {
    "collapsed": true
   },
   "outputs": [],
   "source": []
  },
  {
   "cell_type": "code",
   "execution_count": null,
   "metadata": {
    "collapsed": true
   },
   "outputs": [],
   "source": []
  },
  {
   "cell_type": "code",
   "execution_count": null,
   "metadata": {},
   "outputs": [],
   "source": []
  },
  {
   "cell_type": "code",
   "execution_count": null,
   "metadata": {
    "scrolled": false
   },
   "outputs": [],
   "source": [
    "## Select a user and get the cosine similarity score between selected user and all user edges\n",
    "from sklearn.metrics.pairwise import cosine_similarity\n",
    "usr1 = 558\n",
    "for i,usr2 in enumerate(G_user[usr1]):\n",
    "    G_user[usr1][usr2]['cosine_similarity'] = cosine_similarity(df.loc[usr1].values.reshape(1,-1),df.loc[usr2].values.reshape(1,-1))"
   ]
  },
  {
   "cell_type": "code",
   "execution_count": null,
   "metadata": {},
   "outputs": [],
   "source": [
    "# Get a list of users and cosine score for selected user\n",
    "user_cosines = np.empty((len(G_user.edges(usr1)),2),dtype=np.object)\n",
    "for i,(u,v) in enumerate(G_user.edges(usr1)):\n",
    "    user_cosines[i][0] = v\n",
    "    user_cosines[i][1] = G_user.get_edge_data(u,v)['cosine_similarity'][0][0]\n",
    "\n",
    "#Top 10 cosine Similarities\n",
    "top_10_users = user_cosines[user_cosines[:,1].argsort()][-20:,0]\n",
    "top_10_users"
   ]
  },
  {
   "cell_type": "code",
   "execution_count": null,
   "metadata": {},
   "outputs": [],
   "source": [
    "bks_dif = defaultdict(lambda: defaultdict(float))\n",
    "for usr in top_10_users:\n",
    "    for bk in set(G.neighbors(usr)).difference(set(G.neighbors(usr1))):\n",
    "        bks_dif[bk]['count'] +=1\n",
    "        bks_dif[bk]['implicit'] += 1 if G[usr][bk]['rating'] == 0 else 0\n",
    "        bks_dif[bk]['explicit'] += 1 if G[usr][bk]['rating'] > 0 else 0\n",
    "        bks_dif[bk]['rating'] += G[usr][bk]['rating']\n",
    "        bks_dif[bk]['avg_rating'] = bks_dif[bk]['rating']/bks_dif[bk]['count']\n",
    "        try:\n",
    "            bks_dif[bk]['avg_explicit_rating'] = bks_dif[bk]['rating']/bks_dif[bk]['explicit']\n",
    "        except:\n",
    "            bks_dif[bk]['avg_explicit_rating'] = 0\n",
    "\n",
    "pd.DataFrame(bks_dif).T.sort_values('count',ascending=False).join(books_df.set_index('ISBN')).iloc[:20].sort_values('avg_rating',ascending=False)"
   ]
  },
  {
   "cell_type": "code",
   "execution_count": 515,
   "metadata": {
    "scrolled": true
   },
   "outputs": [],
   "source": []
  }
 ],
 "metadata": {
  "kernelspec": {
   "display_name": "Python 3",
   "language": "python",
   "name": "python3"
  },
  "language_info": {
   "codemirror_mode": {
    "name": "ipython",
    "version": 3
   },
   "file_extension": ".py",
   "mimetype": "text/x-python",
   "name": "python",
   "nbconvert_exporter": "python",
   "pygments_lexer": "ipython3",
   "version": "3.6.1"
  }
 },
 "nbformat": 4,
 "nbformat_minor": 2
}
