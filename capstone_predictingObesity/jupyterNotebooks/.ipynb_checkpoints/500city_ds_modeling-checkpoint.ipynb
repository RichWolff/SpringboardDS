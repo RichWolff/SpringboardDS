{
 "cells": [
  {
   "cell_type": "markdown",
   "metadata": {},
   "source": [
    "# Applying Data Science Models"
   ]
  },
  {
   "cell_type": "code",
   "execution_count": 1,
   "metadata": {},
   "outputs": [
    {
     "name": "stderr",
     "output_type": "stream",
     "text": [
      "C:\\Users\\rich.wolff\\AppData\\Local\\Continuum\\Anaconda3\\lib\\site-packages\\statsmodels\\compat\\pandas.py:56: FutureWarning: The pandas.core.datetools module is deprecated and will be removed in a future version. Please use the pandas.tseries module instead.\n",
      "  from pandas.core import datetools\n"
     ]
    }
   ],
   "source": [
    "#data imports\n",
    "import pandas as pd\n",
    "import numpy as np\n",
    "\n",
    "#data science imports\n",
    "from sklearn.model_selection import cross_val_score,GridSearchCV,train_test_split\n",
    "from sklearn.preprocessing import StandardScaler\n",
    "from sklearn.linear_model import LinearRegression, Lasso, Ridge\n",
    "from sklearn.decomposition import NMF,PCA\n",
    "from sklearn.metrics import accuracy_score, r2_score\n",
    "import statsmodels.api as sm\n",
    "\n",
    "#plotting imports\n",
    "import seaborn as sns\n",
    "import matplotlib.pyplot as plt\n",
    "%matplotlib inline\n",
    "pd.set_option('display.float_format', lambda x: '%.9f' % x)"
   ]
  },
  {
   "cell_type": "markdown",
   "metadata": {},
   "source": [
    "## Data Joins and Data Frame builds"
   ]
  },
  {
   "cell_type": "code",
   "execution_count": 2,
   "metadata": {
    "collapsed": true
   },
   "outputs": [],
   "source": [
    "## Import pre cleaned data\n",
    "data = pd.read_csv('../data/cleansed/data.csv',index_col=0).set_index('uniqueid')\n",
    "locations = pd.read_csv('../data/cleansed/locations.csv')"
   ]
  },
  {
   "cell_type": "code",
   "execution_count": 3,
   "metadata": {
    "collapsed": true
   },
   "outputs": [],
   "source": [
    "# join locations data\n",
    "tidy_data = data.join(locations.set_index('uniqueid')[['geographiclevel','stateabbr','cityname']]).copy()\n",
    "\n",
    "# Only keep census level data\n",
    "tidy_data = tidy_data[tidy_data['geographiclevel'] == 'Census Tract']\n",
    "\n",
    "# Drop uneeded columns\n",
    "tidy_data = tidy_data.drop(['datavaluetypeid','geographiclevel','stateabbr','cityname'],axis=1).reset_index().set_index('uniqueid')"
   ]
  },
  {
   "cell_type": "code",
   "execution_count": 4,
   "metadata": {},
   "outputs": [
    {
     "data": {
      "text/html": [
       "<div>\n",
       "<style>\n",
       "    .dataframe thead tr:only-child th {\n",
       "        text-align: right;\n",
       "    }\n",
       "\n",
       "    .dataframe thead th {\n",
       "        text-align: left;\n",
       "    }\n",
       "\n",
       "    .dataframe tbody tr th {\n",
       "        vertical-align: top;\n",
       "    }\n",
       "</style>\n",
       "<table border=\"1\" class=\"dataframe\">\n",
       "  <thead>\n",
       "    <tr style=\"text-align: right;\">\n",
       "      <th></th>\n",
       "      <th>populationcount</th>\n",
       "      <th>ACCESS2</th>\n",
       "      <th>ARTHRITIS</th>\n",
       "      <th>BINGE</th>\n",
       "      <th>BPHIGH</th>\n",
       "      <th>BPMED</th>\n",
       "      <th>CANCER</th>\n",
       "      <th>CASTHMA</th>\n",
       "      <th>CHD</th>\n",
       "      <th>CHECKUP</th>\n",
       "      <th>...</th>\n",
       "      <th>KIDNEY</th>\n",
       "      <th>LPA</th>\n",
       "      <th>MAMMOUSE</th>\n",
       "      <th>MHLTH</th>\n",
       "      <th>OBESITY</th>\n",
       "      <th>PAPTEST</th>\n",
       "      <th>PHLTH</th>\n",
       "      <th>SLEEP</th>\n",
       "      <th>STROKE</th>\n",
       "      <th>TEETHLOST</th>\n",
       "    </tr>\n",
       "    <tr>\n",
       "      <th>uniqueid</th>\n",
       "      <th></th>\n",
       "      <th></th>\n",
       "      <th></th>\n",
       "      <th></th>\n",
       "      <th></th>\n",
       "      <th></th>\n",
       "      <th></th>\n",
       "      <th></th>\n",
       "      <th></th>\n",
       "      <th></th>\n",
       "      <th></th>\n",
       "      <th></th>\n",
       "      <th></th>\n",
       "      <th></th>\n",
       "      <th></th>\n",
       "      <th></th>\n",
       "      <th></th>\n",
       "      <th></th>\n",
       "      <th></th>\n",
       "      <th></th>\n",
       "      <th></th>\n",
       "    </tr>\n",
       "  </thead>\n",
       "  <tbody>\n",
       "    <tr>\n",
       "      <th>0107000-01073000100</th>\n",
       "      <td>3042.000000000</td>\n",
       "      <td>0.239000000</td>\n",
       "      <td>0.325000000</td>\n",
       "      <td>0.101000000</td>\n",
       "      <td>0.462000000</td>\n",
       "      <td>0.800000000</td>\n",
       "      <td>0.052000000</td>\n",
       "      <td>0.127000000</td>\n",
       "      <td>0.080000000</td>\n",
       "      <td>0.763000000</td>\n",
       "      <td>...</td>\n",
       "      <td>0.036000000</td>\n",
       "      <td>0.423000000</td>\n",
       "      <td>0.742000000</td>\n",
       "      <td>0.188000000</td>\n",
       "      <td>0.467000000</td>\n",
       "      <td>0.760000000</td>\n",
       "      <td>0.196000000</td>\n",
       "      <td>0.504000000</td>\n",
       "      <td>0.055000000</td>\n",
       "      <td>0.302000000</td>\n",
       "    </tr>\n",
       "    <tr>\n",
       "      <th>0107000-01073000300</th>\n",
       "      <td>2735.000000000</td>\n",
       "      <td>0.288000000</td>\n",
       "      <td>0.313000000</td>\n",
       "      <td>0.108000000</td>\n",
       "      <td>0.456000000</td>\n",
       "      <td>0.803000000</td>\n",
       "      <td>0.046000000</td>\n",
       "      <td>0.118000000</td>\n",
       "      <td>0.082000000</td>\n",
       "      <td>0.738000000</td>\n",
       "      <td>...</td>\n",
       "      <td>0.038000000</td>\n",
       "      <td>0.437000000</td>\n",
       "      <td>0.740000000</td>\n",
       "      <td>0.185000000</td>\n",
       "      <td>0.470000000</td>\n",
       "      <td>0.732000000</td>\n",
       "      <td>0.202000000</td>\n",
       "      <td>0.494000000</td>\n",
       "      <td>0.057000000</td>\n",
       "      <td>0.333000000</td>\n",
       "    </tr>\n",
       "    <tr>\n",
       "      <th>0107000-01073000400</th>\n",
       "      <td>3338.000000000</td>\n",
       "      <td>0.261000000</td>\n",
       "      <td>0.346000000</td>\n",
       "      <td>0.095000000</td>\n",
       "      <td>0.501000000</td>\n",
       "      <td>0.820000000</td>\n",
       "      <td>0.052000000</td>\n",
       "      <td>0.130000000</td>\n",
       "      <td>0.088000000</td>\n",
       "      <td>0.775000000</td>\n",
       "      <td>...</td>\n",
       "      <td>0.040000000</td>\n",
       "      <td>0.449000000</td>\n",
       "      <td>0.736000000</td>\n",
       "      <td>0.191000000</td>\n",
       "      <td>0.488000000</td>\n",
       "      <td>0.728000000</td>\n",
       "      <td>0.211000000</td>\n",
       "      <td>0.525000000</td>\n",
       "      <td>0.065000000</td>\n",
       "      <td>0.360000000</td>\n",
       "    </tr>\n",
       "    <tr>\n",
       "      <th>0107000-01073000500</th>\n",
       "      <td>2864.000000000</td>\n",
       "      <td>0.281000000</td>\n",
       "      <td>0.378000000</td>\n",
       "      <td>0.086000000</td>\n",
       "      <td>0.543000000</td>\n",
       "      <td>0.840000000</td>\n",
       "      <td>0.058000000</td>\n",
       "      <td>0.134000000</td>\n",
       "      <td>0.108000000</td>\n",
       "      <td>0.788000000</td>\n",
       "      <td>...</td>\n",
       "      <td>0.048000000</td>\n",
       "      <td>0.471000000</td>\n",
       "      <td>0.732000000</td>\n",
       "      <td>0.194000000</td>\n",
       "      <td>0.499000000</td>\n",
       "      <td>0.708000000</td>\n",
       "      <td>0.231000000</td>\n",
       "      <td>0.526000000</td>\n",
       "      <td>0.082000000</td>\n",
       "      <td>0.402000000</td>\n",
       "    </tr>\n",
       "    <tr>\n",
       "      <th>0107000-01073000700</th>\n",
       "      <td>2577.000000000</td>\n",
       "      <td>0.318000000</td>\n",
       "      <td>0.385000000</td>\n",
       "      <td>0.074000000</td>\n",
       "      <td>0.554000000</td>\n",
       "      <td>0.833000000</td>\n",
       "      <td>0.057000000</td>\n",
       "      <td>0.143000000</td>\n",
       "      <td>0.119000000</td>\n",
       "      <td>0.787000000</td>\n",
       "      <td>...</td>\n",
       "      <td>0.057000000</td>\n",
       "      <td>0.508000000</td>\n",
       "      <td>0.705000000</td>\n",
       "      <td>0.216000000</td>\n",
       "      <td>0.528000000</td>\n",
       "      <td>0.676000000</td>\n",
       "      <td>0.258000000</td>\n",
       "      <td>0.541000000</td>\n",
       "      <td>0.096000000</td>\n",
       "      <td>0.458000000</td>\n",
       "    </tr>\n",
       "  </tbody>\n",
       "</table>\n",
       "<p>5 rows × 29 columns</p>\n",
       "</div>"
      ],
      "text/plain": [
       "                     populationcount     ACCESS2   ARTHRITIS       BINGE  \\\n",
       "uniqueid                                                                   \n",
       "0107000-01073000100   3042.000000000 0.239000000 0.325000000 0.101000000   \n",
       "0107000-01073000300   2735.000000000 0.288000000 0.313000000 0.108000000   \n",
       "0107000-01073000400   3338.000000000 0.261000000 0.346000000 0.095000000   \n",
       "0107000-01073000500   2864.000000000 0.281000000 0.378000000 0.086000000   \n",
       "0107000-01073000700   2577.000000000 0.318000000 0.385000000 0.074000000   \n",
       "\n",
       "                         BPHIGH       BPMED      CANCER     CASTHMA  \\\n",
       "uniqueid                                                              \n",
       "0107000-01073000100 0.462000000 0.800000000 0.052000000 0.127000000   \n",
       "0107000-01073000300 0.456000000 0.803000000 0.046000000 0.118000000   \n",
       "0107000-01073000400 0.501000000 0.820000000 0.052000000 0.130000000   \n",
       "0107000-01073000500 0.543000000 0.840000000 0.058000000 0.134000000   \n",
       "0107000-01073000700 0.554000000 0.833000000 0.057000000 0.143000000   \n",
       "\n",
       "                            CHD     CHECKUP     ...          KIDNEY  \\\n",
       "uniqueid                                        ...                   \n",
       "0107000-01073000100 0.080000000 0.763000000     ...     0.036000000   \n",
       "0107000-01073000300 0.082000000 0.738000000     ...     0.038000000   \n",
       "0107000-01073000400 0.088000000 0.775000000     ...     0.040000000   \n",
       "0107000-01073000500 0.108000000 0.788000000     ...     0.048000000   \n",
       "0107000-01073000700 0.119000000 0.787000000     ...     0.057000000   \n",
       "\n",
       "                            LPA    MAMMOUSE       MHLTH     OBESITY  \\\n",
       "uniqueid                                                              \n",
       "0107000-01073000100 0.423000000 0.742000000 0.188000000 0.467000000   \n",
       "0107000-01073000300 0.437000000 0.740000000 0.185000000 0.470000000   \n",
       "0107000-01073000400 0.449000000 0.736000000 0.191000000 0.488000000   \n",
       "0107000-01073000500 0.471000000 0.732000000 0.194000000 0.499000000   \n",
       "0107000-01073000700 0.508000000 0.705000000 0.216000000 0.528000000   \n",
       "\n",
       "                        PAPTEST       PHLTH       SLEEP      STROKE  \\\n",
       "uniqueid                                                              \n",
       "0107000-01073000100 0.760000000 0.196000000 0.504000000 0.055000000   \n",
       "0107000-01073000300 0.732000000 0.202000000 0.494000000 0.057000000   \n",
       "0107000-01073000400 0.728000000 0.211000000 0.525000000 0.065000000   \n",
       "0107000-01073000500 0.708000000 0.231000000 0.526000000 0.082000000   \n",
       "0107000-01073000700 0.676000000 0.258000000 0.541000000 0.096000000   \n",
       "\n",
       "                      TEETHLOST  \n",
       "uniqueid                         \n",
       "0107000-01073000100 0.302000000  \n",
       "0107000-01073000300 0.333000000  \n",
       "0107000-01073000400 0.360000000  \n",
       "0107000-01073000500 0.402000000  \n",
       "0107000-01073000700 0.458000000  \n",
       "\n",
       "[5 rows x 29 columns]"
      ]
     },
     "execution_count": 4,
     "metadata": {},
     "output_type": "execute_result"
    }
   ],
   "source": [
    "# Check data \n",
    "tidy_data.head()"
   ]
  },
  {
   "cell_type": "markdown",
   "metadata": {
    "collapsed": true
   },
   "source": [
    "<h2>Now that the data is in a tidy format, I'll split the data into a train and test group. The model will be built on the training data and the test data will be held out for a final general fit test</h2>"
   ]
  },
  {
   "cell_type": "code",
   "execution_count": 5,
   "metadata": {
    "collapsed": true
   },
   "outputs": [],
   "source": [
    "# Set variables into X and y with y being the target and X being the features.\n",
    "zscore = lambda x: (x-x.mean())/x.std()\n",
    "tidy_data_scaled = tidy_data #.transform(zscore,axis=0)\n",
    "\n",
    "y = tidy_data['OBESITY']\n",
    "X = tidy_data.drop('OBESITY',axis=1)\n",
    "\n",
    "# Separate data into train test split\n",
    "Xtrain, Xtest, ytrain, ytest = train_test_split(X,y,test_size=.25,random_state=21)"
   ]
  },
  {
   "cell_type": "markdown",
   "metadata": {},
   "source": [
    "<h2> Next, we can fit all the features to our model to see if there are any features we could focus on. My goal is to bring the features down to what explains the mode</h2>"
   ]
  },
  {
   "cell_type": "code",
   "execution_count": 6,
   "metadata": {
    "scrolled": false
   },
   "outputs": [
    {
     "name": "stdout",
     "output_type": "stream",
     "text": [
      "                            OLS Regression Results                            \n",
      "==============================================================================\n",
      "Dep. Variable:                OBESITY   R-squared:                       0.995\n",
      "Model:                            OLS   Adj. R-squared:                  0.995\n",
      "Method:                 Least Squares   F-statistic:                 1.379e+05\n",
      "Date:                Tue, 10 Apr 2018   Prob (F-statistic):               0.00\n",
      "Time:                        09:30:07   Log-Likelihood:                 48660.\n",
      "No. Observations:               20398   AIC:                        -9.726e+04\n",
      "Df Residuals:                   20370   BIC:                        -9.704e+04\n",
      "Df Model:                          28                                         \n",
      "Covariance Type:            nonrobust                                         \n",
      "===================================================================================\n",
      "                      coef    std err          t      P>|t|      [0.025      0.975]\n",
      "-----------------------------------------------------------------------------------\n",
      "populationcount -1.259e-07   8.33e-08     -1.511      0.131   -2.89e-07    3.74e-08\n",
      "ACCESS2             0.1795      0.006     30.979      0.000       0.168       0.191\n",
      "ARTHRITIS           0.5129      0.013     39.409      0.000       0.487       0.538\n",
      "BINGE               0.2297      0.008     28.954      0.000       0.214       0.245\n",
      "BPHIGH              0.6822      0.011     62.702      0.000       0.661       0.704\n",
      "BPMED              -0.0341      0.006     -5.398      0.000      -0.046      -0.022\n",
      "CANCER             -1.1385      0.042    -27.087      0.000      -1.221      -1.056\n",
      "CASTHMA             0.5194      0.032     16.485      0.000       0.458       0.581\n",
      "CHD                -1.6995      0.059    -29.039      0.000      -1.814      -1.585\n",
      "CHECKUP            -0.2079      0.008    -27.018      0.000      -0.223      -0.193\n",
      "CHOLSCREEN         -0.1597      0.008    -20.472      0.000      -0.175      -0.144\n",
      "COLON_SCREEN       -0.1659      0.008    -21.269      0.000      -0.181      -0.151\n",
      "COPD                0.8825      0.039     22.399      0.000       0.805       0.960\n",
      "COREM               0.0844      0.007     12.280      0.000       0.071       0.098\n",
      "COREW              -0.0454      0.007     -6.664      0.000      -0.059      -0.032\n",
      "CSMOKING            0.2338      0.011     21.392      0.000       0.212       0.255\n",
      "DENTAL             -0.0311      0.007     -4.663      0.000      -0.044      -0.018\n",
      "DIABETES            0.4169      0.030     14.032      0.000       0.359       0.475\n",
      "HIGHCHOL            0.1299      0.012     11.123      0.000       0.107       0.153\n",
      "KIDNEY              2.4951      0.121     20.647      0.000       2.258       2.732\n",
      "LPA                 0.2664      0.008     32.963      0.000       0.251       0.282\n",
      "MAMMOUSE            0.1211      0.007     16.919      0.000       0.107       0.135\n",
      "MHLTH              -0.0417      0.028     -1.488      0.137      -0.097       0.013\n",
      "PAPTEST             0.3155      0.007     43.018      0.000       0.301       0.330\n",
      "PHLTH              -0.9970      0.033    -30.437      0.000      -1.061      -0.933\n",
      "SLEEP              -0.2238      0.007    -32.037      0.000      -0.237      -0.210\n",
      "STROKE             -1.3760      0.074    -18.538      0.000      -1.521      -1.231\n",
      "TEETHLOST          -0.0053      0.008     -0.664      0.507      -0.021       0.010\n",
      "==============================================================================\n",
      "Omnibus:                      765.252   Durbin-Watson:                   1.975\n",
      "Prob(Omnibus):                  0.000   Jarque-Bera (JB):             1434.200\n",
      "Skew:                          -0.294   Prob(JB):                         0.00\n",
      "Kurtosis:                       4.159   Cond. No.                     3.51e+06\n",
      "==============================================================================\n",
      "\n",
      "Warnings:\n",
      "[1] Standard Errors assume that the covariance matrix of the errors is correctly specified.\n",
      "[2] The condition number is large, 3.51e+06. This might indicate that there are\n",
      "strong multicollinearity or other numerical problems.\n"
     ]
    }
   ],
   "source": [
    "m0 = sm.OLS(ytrain,Xtrain).fit()\n",
    "print(m0.summary())"
   ]
  },
  {
   "cell_type": "markdown",
   "metadata": {},
   "source": [
    "<H2> Looking at the initial results, there are 3 values with high pvalues. Populationcount, poor mental health, and having lost teeth do not add much information to this model and will be dropped </H2>"
   ]
  },
  {
   "cell_type": "code",
   "execution_count": 7,
   "metadata": {},
   "outputs": [
    {
     "name": "stdout",
     "output_type": "stream",
     "text": [
      "AIC Change: -0.5810\n",
      "                            OLS Regression Results                            \n",
      "==============================================================================\n",
      "Dep. Variable:                OBESITY   R-squared:                       0.995\n",
      "Model:                            OLS   Adj. R-squared:                  0.995\n",
      "Method:                 Least Squares   F-statistic:                 1.544e+05\n",
      "Date:                Tue, 10 Apr 2018   Prob (F-statistic):               0.00\n",
      "Time:                        09:30:08   Log-Likelihood:                 48657.\n",
      "No. Observations:               20398   AIC:                        -9.726e+04\n",
      "Df Residuals:                   20373   BIC:                        -9.707e+04\n",
      "Df Model:                          25                                         \n",
      "Covariance Type:            nonrobust                                         \n",
      "================================================================================\n",
      "                   coef    std err          t      P>|t|      [0.025      0.975]\n",
      "--------------------------------------------------------------------------------\n",
      "ACCESS2          0.1781      0.006     30.917      0.000       0.167       0.189\n",
      "ARTHRITIS        0.5162      0.013     40.198      0.000       0.491       0.541\n",
      "BINGE            0.2306      0.008     29.096      0.000       0.215       0.246\n",
      "BPHIGH           0.6848      0.011     63.506      0.000       0.664       0.706\n",
      "BPMED           -0.0350      0.006     -5.570      0.000      -0.047      -0.023\n",
      "CANCER          -1.1448      0.042    -27.356      0.000      -1.227      -1.063\n",
      "CASTHMA          0.4971      0.028     17.499      0.000       0.441       0.553\n",
      "CHD             -1.6940      0.058    -29.110      0.000      -1.808      -1.580\n",
      "CHECKUP         -0.2107      0.007    -28.166      0.000      -0.225      -0.196\n",
      "CHOLSCREEN      -0.1566      0.008    -20.540      0.000      -0.172      -0.142\n",
      "COLON_SCREEN    -0.1650      0.008    -21.426      0.000      -0.180      -0.150\n",
      "COPD             0.8722      0.039     22.451      0.000       0.796       0.948\n",
      "COREM            0.0820      0.007     12.289      0.000       0.069       0.095\n",
      "COREW           -0.0439      0.007     -6.486      0.000      -0.057      -0.031\n",
      "CSMOKING         0.2314      0.011     21.531      0.000       0.210       0.252\n",
      "DENTAL          -0.0290      0.006     -4.558      0.000      -0.042      -0.017\n",
      "DIABETES         0.4232      0.030     14.319      0.000       0.365       0.481\n",
      "HIGHCHOL         0.1313      0.012     11.345      0.000       0.109       0.154\n",
      "KIDNEY           2.5440      0.118     21.573      0.000       2.313       2.775\n",
      "LPA              0.2685      0.008     33.983      0.000       0.253       0.284\n",
      "MAMMOUSE         0.1181      0.007     17.048      0.000       0.105       0.132\n",
      "PAPTEST          0.3141      0.007     43.045      0.000       0.300       0.328\n",
      "PHLTH           -1.0338      0.024    -43.794      0.000      -1.080      -0.988\n",
      "SLEEP           -0.2261      0.007    -33.144      0.000      -0.239      -0.213\n",
      "STROKE          -1.3794      0.071    -19.472      0.000      -1.518      -1.241\n",
      "==============================================================================\n",
      "Omnibus:                      756.987   Durbin-Watson:                   1.975\n",
      "Prob(Omnibus):                  0.000   Jarque-Bera (JB):             1408.601\n",
      "Skew:                          -0.293   Prob(JB):                    1.34e-306\n",
      "Kurtosis:                       4.146   Cond. No.                     1.64e+03\n",
      "==============================================================================\n",
      "\n",
      "Warnings:\n",
      "[1] Standard Errors assume that the covariance matrix of the errors is correctly specified.\n",
      "[2] The condition number is large, 1.64e+03. This might indicate that there are\n",
      "strong multicollinearity or other numerical problems.\n"
     ]
    }
   ],
   "source": [
    "# Drop features with higher pvalues\n",
    "drop_high_pval = np.array(['populationcount','MHLTH','TEETHLOST'])\n",
    "Xtrain_dropped = Xtrain.drop(drop_high_pval,axis=1)\n",
    "\n",
    "# Retrain model without dropped features\n",
    "m1 = sm.OLS(ytrain,Xtrain_dropped).fit()\n",
    "print('AIC Change: {0:.4f}'.format(m1.aic-m0.aic))\n",
    "print(m1.summary())"
   ]
  },
  {
   "cell_type": "markdown",
   "metadata": {},
   "source": [
    "<h3>After we dropped those three features, we actually saw an AIC drop and it is probably fair to leave them out. It's also good to note that our R^2 did not change either.</h3>\n",
    "\n",
    "<h3>Next, Ill look at the coefficients to decipher which has the most affect on the model and whether or no that makes sense (Is a population with high Obesity % that way because they have high blood pressure, or do they have high blood pressure because they're obese?</h3>"
   ]
  },
  {
   "cell_type": "code",
   "execution_count": 8,
   "metadata": {},
   "outputs": [
    {
     "data": {
      "text/html": [
       "<div>\n",
       "<style>\n",
       "    .dataframe thead tr:only-child th {\n",
       "        text-align: right;\n",
       "    }\n",
       "\n",
       "    .dataframe thead th {\n",
       "        text-align: left;\n",
       "    }\n",
       "\n",
       "    .dataframe tbody tr th {\n",
       "        vertical-align: top;\n",
       "    }\n",
       "</style>\n",
       "<table border=\"1\" class=\"dataframe\">\n",
       "  <thead>\n",
       "    <tr style=\"text-align: right;\">\n",
       "      <th></th>\n",
       "      <th>low</th>\n",
       "      <th>high</th>\n",
       "    </tr>\n",
       "  </thead>\n",
       "  <tbody>\n",
       "    <tr>\n",
       "      <th>KIDNEY</th>\n",
       "      <td>2.312893564</td>\n",
       "      <td>2.775174768</td>\n",
       "    </tr>\n",
       "    <tr>\n",
       "      <th>COPD</th>\n",
       "      <td>0.796059372</td>\n",
       "      <td>0.948358392</td>\n",
       "    </tr>\n",
       "    <tr>\n",
       "      <th>BPHIGH</th>\n",
       "      <td>0.663624526</td>\n",
       "      <td>0.705894198</td>\n",
       "    </tr>\n",
       "    <tr>\n",
       "      <th>CASTHMA</th>\n",
       "      <td>0.441383585</td>\n",
       "      <td>0.552737343</td>\n",
       "    </tr>\n",
       "    <tr>\n",
       "      <th>ARTHRITIS</th>\n",
       "      <td>0.491007909</td>\n",
       "      <td>0.541346620</td>\n",
       "    </tr>\n",
       "    <tr>\n",
       "      <th>DIABETES</th>\n",
       "      <td>0.365248731</td>\n",
       "      <td>0.481102829</td>\n",
       "    </tr>\n",
       "    <tr>\n",
       "      <th>PAPTEST</th>\n",
       "      <td>0.299767393</td>\n",
       "      <td>0.328370276</td>\n",
       "    </tr>\n",
       "    <tr>\n",
       "      <th>LPA</th>\n",
       "      <td>0.252989648</td>\n",
       "      <td>0.283959782</td>\n",
       "    </tr>\n",
       "    <tr>\n",
       "      <th>CSMOKING</th>\n",
       "      <td>0.210323958</td>\n",
       "      <td>0.252452294</td>\n",
       "    </tr>\n",
       "    <tr>\n",
       "      <th>BINGE</th>\n",
       "      <td>0.215034675</td>\n",
       "      <td>0.246098882</td>\n",
       "    </tr>\n",
       "    <tr>\n",
       "      <th>ACCESS2</th>\n",
       "      <td>0.166763573</td>\n",
       "      <td>0.189340144</td>\n",
       "    </tr>\n",
       "    <tr>\n",
       "      <th>HIGHCHOL</th>\n",
       "      <td>0.108607519</td>\n",
       "      <td>0.153973927</td>\n",
       "    </tr>\n",
       "    <tr>\n",
       "      <th>MAMMOUSE</th>\n",
       "      <td>0.104546893</td>\n",
       "      <td>0.131711119</td>\n",
       "    </tr>\n",
       "    <tr>\n",
       "      <th>COREM</th>\n",
       "      <td>0.068957156</td>\n",
       "      <td>0.095128395</td>\n",
       "    </tr>\n",
       "    <tr>\n",
       "      <th>DENTAL</th>\n",
       "      <td>-0.041528601</td>\n",
       "      <td>-0.016551533</td>\n",
       "    </tr>\n",
       "    <tr>\n",
       "      <th>BPMED</th>\n",
       "      <td>-0.047352980</td>\n",
       "      <td>-0.022700161</td>\n",
       "    </tr>\n",
       "    <tr>\n",
       "      <th>COREW</th>\n",
       "      <td>-0.057143028</td>\n",
       "      <td>-0.030620363</td>\n",
       "    </tr>\n",
       "    <tr>\n",
       "      <th>CHOLSCREEN</th>\n",
       "      <td>-0.171566985</td>\n",
       "      <td>-0.141674521</td>\n",
       "    </tr>\n",
       "    <tr>\n",
       "      <th>COLON_SCREEN</th>\n",
       "      <td>-0.180094221</td>\n",
       "      <td>-0.149905676</td>\n",
       "    </tr>\n",
       "    <tr>\n",
       "      <th>CHECKUP</th>\n",
       "      <td>-0.225338784</td>\n",
       "      <td>-0.196016461</td>\n",
       "    </tr>\n",
       "    <tr>\n",
       "      <th>SLEEP</th>\n",
       "      <td>-0.239482943</td>\n",
       "      <td>-0.212739187</td>\n",
       "    </tr>\n",
       "    <tr>\n",
       "      <th>PHLTH</th>\n",
       "      <td>-1.080072540</td>\n",
       "      <td>-0.987533269</td>\n",
       "    </tr>\n",
       "    <tr>\n",
       "      <th>CANCER</th>\n",
       "      <td>-1.226799885</td>\n",
       "      <td>-1.062754092</td>\n",
       "    </tr>\n",
       "    <tr>\n",
       "      <th>STROKE</th>\n",
       "      <td>-1.518222865</td>\n",
       "      <td>-1.240522461</td>\n",
       "    </tr>\n",
       "    <tr>\n",
       "      <th>CHD</th>\n",
       "      <td>-1.808064166</td>\n",
       "      <td>-1.579936603</td>\n",
       "    </tr>\n",
       "  </tbody>\n",
       "</table>\n",
       "</div>"
      ],
      "text/plain": [
       "                      low         high\n",
       "KIDNEY        2.312893564  2.775174768\n",
       "COPD          0.796059372  0.948358392\n",
       "BPHIGH        0.663624526  0.705894198\n",
       "CASTHMA       0.441383585  0.552737343\n",
       "ARTHRITIS     0.491007909  0.541346620\n",
       "DIABETES      0.365248731  0.481102829\n",
       "PAPTEST       0.299767393  0.328370276\n",
       "LPA           0.252989648  0.283959782\n",
       "CSMOKING      0.210323958  0.252452294\n",
       "BINGE         0.215034675  0.246098882\n",
       "ACCESS2       0.166763573  0.189340144\n",
       "HIGHCHOL      0.108607519  0.153973927\n",
       "MAMMOUSE      0.104546893  0.131711119\n",
       "COREM         0.068957156  0.095128395\n",
       "DENTAL       -0.041528601 -0.016551533\n",
       "BPMED        -0.047352980 -0.022700161\n",
       "COREW        -0.057143028 -0.030620363\n",
       "CHOLSCREEN   -0.171566985 -0.141674521\n",
       "COLON_SCREEN -0.180094221 -0.149905676\n",
       "CHECKUP      -0.225338784 -0.196016461\n",
       "SLEEP        -0.239482943 -0.212739187\n",
       "PHLTH        -1.080072540 -0.987533269\n",
       "CANCER       -1.226799885 -1.062754092\n",
       "STROKE       -1.518222865 -1.240522461\n",
       "CHD          -1.808064166 -1.579936603"
      ]
     },
     "execution_count": 8,
     "metadata": {},
     "output_type": "execute_result"
    }
   ],
   "source": [
    "#Set the alpha for confidence interval sizes\n",
    "alpha = .05\n",
    "\n",
    "#Obtain Coefficient confidence intervals\n",
    "conf_ints = m1.conf_int(alpha=alpha)\n",
    "conf_ints.columns =['low','high']\n",
    "conf_ints.sort_values('high',ascending=False)"
   ]
  },
  {
   "cell_type": "markdown",
   "metadata": {},
   "source": [
    "<p>It's no surprise to see High Blood Pressure (BPHIGH), Kidney Disease, and Arthritis high up on this list. According to the CDC<sup>1</sup>, these are all effects of being obese. What's extremely interesting is CHD (coronary heart disease) ranks as a strong indicator of populations low in obesity. Also, an outcome of Reported poor physical health is a strong indicator of populations with low obesity. The two data data series have a .89 correlation. I'll drop this one as well.</p>\n",
    "\n",
    "<p>Next, I'll remove those items typically associated as effects as obesity to see if we can narrow down some causes that may be closer to causing obesity</p>\n",
    "\n",
    "<p><sup>1</sup><a href='https://www.cdc.gov/healthyweight/effects/index.html'>CDC: The Health Effects of Overweight and Obesity</a></p>"
   ]
  },
  {
   "cell_type": "code",
   "execution_count": 9,
   "metadata": {},
   "outputs": [
    {
     "name": "stdout",
     "output_type": "stream",
     "text": [
      "AIC Change: 14789.8278\n",
      "                            OLS Regression Results                            \n",
      "==============================================================================\n",
      "Dep. Variable:                OBESITY   R-squared:                       0.989\n",
      "Model:                            OLS   Adj. R-squared:                  0.989\n",
      "Method:                 Least Squares   F-statistic:                 1.093e+05\n",
      "Date:                Tue, 10 Apr 2018   Prob (F-statistic):               0.00\n",
      "Time:                        09:30:08   Log-Likelihood:                 41255.\n",
      "No. Observations:               20398   AIC:                        -8.248e+04\n",
      "Df Residuals:                   20381   BIC:                        -8.234e+04\n",
      "Df Model:                          17                                         \n",
      "Covariance Type:            nonrobust                                         \n",
      "================================================================================\n",
      "                   coef    std err          t      P>|t|      [0.025      0.975]\n",
      "--------------------------------------------------------------------------------\n",
      "ACCESS2          0.0326      0.006      5.632      0.000       0.021       0.044\n",
      "BINGE            0.0033      0.010      0.330      0.742      -0.017       0.023\n",
      "BPMED            0.2338      0.007     32.334      0.000       0.220       0.248\n",
      "CANCER           0.1048      0.036      2.942      0.003       0.035       0.175\n",
      "CASTHMA          0.6945      0.032     21.811      0.000       0.632       0.757\n",
      "CHECKUP         -0.0572      0.009     -6.416      0.000      -0.075      -0.040\n",
      "CHOLSCREEN      -0.0927      0.010     -9.389      0.000      -0.112      -0.073\n",
      "COLON_SCREEN    -0.0158      0.010     -1.559      0.119      -0.036       0.004\n",
      "COPD            -0.3596      0.036    -10.010      0.000      -0.430      -0.289\n",
      "COREM            0.0226      0.009      2.538      0.011       0.005       0.040\n",
      "COREW            0.1154      0.009     12.752      0.000       0.098       0.133\n",
      "CSMOKING         0.4154      0.013     31.007      0.000       0.389       0.442\n",
      "DENTAL          -0.3507      0.007    -47.961      0.000      -0.365      -0.336\n",
      "LPA              0.2329      0.010     23.346      0.000       0.213       0.252\n",
      "MAMMOUSE         0.1227      0.009     13.272      0.000       0.105       0.141\n",
      "PAPTEST          0.2437      0.010     25.093      0.000       0.225       0.263\n",
      "SLEEP           -0.1760      0.009    -18.687      0.000      -0.195      -0.158\n",
      "==============================================================================\n",
      "Omnibus:                      220.506   Durbin-Watson:                   1.991\n",
      "Prob(Omnibus):                  0.000   Jarque-Bera (JB):              243.014\n",
      "Skew:                          -0.219   Prob(JB):                     1.70e-53\n",
      "Kurtosis:                       3.306   Cond. No.                         408.\n",
      "==============================================================================\n",
      "\n",
      "Warnings:\n",
      "[1] Standard Errors assume that the covariance matrix of the errors is correctly specified.\n"
     ]
    }
   ],
   "source": [
    "# Drop features with higher pvalues\n",
    "drop_effects_of_obesity = np.array(['CHD','BPHIGH','ARTHRITIS','DIABETES','HIGHCHOL','PHLTH','KIDNEY','STROKE'])\n",
    "Xtrain_dropped = Xtrain.drop(np.concatenate([drop_effects_of_obesity,drop_high_pval]),axis=1)\n",
    "\n",
    "# Retrain model without dropped features\n",
    "m2 = sm.OLS(ytrain,Xtrain_dropped).fit()\n",
    "print('AIC Change: {0:.4f}'.format(m2.aic-m1.aic))\n",
    "print(m2.summary())"
   ]
  },
  {
   "cell_type": "markdown",
   "metadata": {},
   "source": [
    "<h2> First, we see a drop in R2 from .995 to .989 and an AIC increase of 14789. This seems like a big increase but I'm willing to include it to reduce the noise from variables that are typically an effect of what we're trying to predict</h2>\n",
    "\n",
    "<h2> Second, We now see that the p value for populations with a higher % of colon_screenings and a higher % of binge drinking. Let's remove that and see what the outcome of these variables are</h2>"
   ]
  },
  {
   "cell_type": "code",
   "execution_count": 10,
   "metadata": {},
   "outputs": [
    {
     "name": "stdout",
     "output_type": "stream",
     "text": [
      "AIC Change: -1.3431\n",
      "                            OLS Regression Results                            \n",
      "==============================================================================\n",
      "Dep. Variable:                OBESITY   R-squared:                       0.989\n",
      "Model:                            OLS   Adj. R-squared:                  0.989\n",
      "Method:                 Least Squares   F-statistic:                 1.239e+05\n",
      "Date:                Tue, 10 Apr 2018   Prob (F-statistic):               0.00\n",
      "Time:                        09:30:08   Log-Likelihood:                 41253.\n",
      "No. Observations:               20398   AIC:                        -8.248e+04\n",
      "Df Residuals:                   20383   BIC:                        -8.236e+04\n",
      "Df Model:                          15                                         \n",
      "Covariance Type:            nonrobust                                         \n",
      "==============================================================================\n",
      "                 coef    std err          t      P>|t|      [0.025      0.975]\n",
      "------------------------------------------------------------------------------\n",
      "ACCESS2        0.0352      0.006      6.312      0.000       0.024       0.046\n",
      "BPMED          0.2331      0.007     32.443      0.000       0.219       0.247\n",
      "CANCER         0.0979      0.035      2.780      0.005       0.029       0.167\n",
      "CASTHMA        0.6823      0.031     22.114      0.000       0.622       0.743\n",
      "CHECKUP       -0.0618      0.008     -7.316      0.000      -0.078      -0.045\n",
      "CHOLSCREEN    -0.0907      0.010     -9.313      0.000      -0.110      -0.072\n",
      "COPD          -0.3656      0.036    -10.242      0.000      -0.436      -0.296\n",
      "COREM          0.0215      0.009      2.473      0.013       0.004       0.039\n",
      "COREW          0.1104      0.008     13.379      0.000       0.094       0.127\n",
      "CSMOKING       0.4215      0.012     33.979      0.000       0.397       0.446\n",
      "DENTAL        -0.3531      0.006    -56.099      0.000      -0.365      -0.341\n",
      "LPA            0.2350      0.010     23.810      0.000       0.216       0.254\n",
      "MAMMOUSE       0.1203      0.009     13.348      0.000       0.103       0.138\n",
      "PAPTEST        0.2413      0.009     25.940      0.000       0.223       0.259\n",
      "SLEEP         -0.1758      0.009    -18.682      0.000      -0.194      -0.157\n",
      "==============================================================================\n",
      "Omnibus:                      218.235   Durbin-Watson:                   1.991\n",
      "Prob(Omnibus):                  0.000   Jarque-Bera (JB):              239.132\n",
      "Skew:                          -0.220   Prob(JB):                     1.18e-52\n",
      "Kurtosis:                       3.296   Cond. No.                         387.\n",
      "==============================================================================\n",
      "\n",
      "Warnings:\n",
      "[1] Standard Errors assume that the covariance matrix of the errors is correctly specified.\n"
     ]
    }
   ],
   "source": [
    "drop_high_pval2 = np.array(['BINGE','COLON_SCREEN'])\n",
    "Xtrain_dropped = Xtrain.drop(np.concatenate([drop_effects_of_obesity,drop_high_pval,drop_high_pval2]),axis=1)\n",
    "\n",
    "# Retrain model without dropped features\n",
    "m3 = sm.OLS(ytrain,Xtrain_dropped).fit()\n",
    "print('AIC Change: {0:.4f}'.format(m3.aic-m2.aic))\n",
    "print(m3.summary())"
   ]
  },
  {
   "cell_type": "markdown",
   "metadata": {},
   "source": [
    "<h2>We saw a tiny decrease to AIC and no change to our R^2</H2>\n",
    "\n",
    "<h3>Let's look at our coefficients</h3>"
   ]
  },
  {
   "cell_type": "code",
   "execution_count": 11,
   "metadata": {
    "scrolled": false
   },
   "outputs": [
    {
     "data": {
      "text/html": [
       "<div>\n",
       "<style>\n",
       "    .dataframe thead tr:only-child th {\n",
       "        text-align: right;\n",
       "    }\n",
       "\n",
       "    .dataframe thead th {\n",
       "        text-align: left;\n",
       "    }\n",
       "\n",
       "    .dataframe tbody tr th {\n",
       "        vertical-align: top;\n",
       "    }\n",
       "</style>\n",
       "<table border=\"1\" class=\"dataframe\">\n",
       "  <thead>\n",
       "    <tr style=\"text-align: right;\">\n",
       "      <th></th>\n",
       "      <th>low</th>\n",
       "      <th>high</th>\n",
       "    </tr>\n",
       "  </thead>\n",
       "  <tbody>\n",
       "    <tr>\n",
       "      <th>CASTHMA</th>\n",
       "      <td>0.621850651</td>\n",
       "      <td>0.742809070</td>\n",
       "    </tr>\n",
       "    <tr>\n",
       "      <th>CSMOKING</th>\n",
       "      <td>0.397214678</td>\n",
       "      <td>0.445847121</td>\n",
       "    </tr>\n",
       "    <tr>\n",
       "      <th>PAPTEST</th>\n",
       "      <td>0.223031849</td>\n",
       "      <td>0.259492818</td>\n",
       "    </tr>\n",
       "    <tr>\n",
       "      <th>LPA</th>\n",
       "      <td>0.215645616</td>\n",
       "      <td>0.254335557</td>\n",
       "    </tr>\n",
       "    <tr>\n",
       "      <th>BPMED</th>\n",
       "      <td>0.218996327</td>\n",
       "      <td>0.247159740</td>\n",
       "    </tr>\n",
       "    <tr>\n",
       "      <th>CANCER</th>\n",
       "      <td>0.028865204</td>\n",
       "      <td>0.166892003</td>\n",
       "    </tr>\n",
       "    <tr>\n",
       "      <th>MAMMOUSE</th>\n",
       "      <td>0.102622583</td>\n",
       "      <td>0.137949917</td>\n",
       "    </tr>\n",
       "    <tr>\n",
       "      <th>COREW</th>\n",
       "      <td>0.094223728</td>\n",
       "      <td>0.126570871</td>\n",
       "    </tr>\n",
       "    <tr>\n",
       "      <th>ACCESS2</th>\n",
       "      <td>0.024244223</td>\n",
       "      <td>0.046084625</td>\n",
       "    </tr>\n",
       "    <tr>\n",
       "      <th>COREM</th>\n",
       "      <td>0.004462104</td>\n",
       "      <td>0.038575359</td>\n",
       "    </tr>\n",
       "    <tr>\n",
       "      <th>CHECKUP</th>\n",
       "      <td>-0.078381608</td>\n",
       "      <td>-0.045255365</td>\n",
       "    </tr>\n",
       "    <tr>\n",
       "      <th>CHOLSCREEN</th>\n",
       "      <td>-0.109752042</td>\n",
       "      <td>-0.071585166</td>\n",
       "    </tr>\n",
       "    <tr>\n",
       "      <th>SLEEP</th>\n",
       "      <td>-0.194267107</td>\n",
       "      <td>-0.157372770</td>\n",
       "    </tr>\n",
       "    <tr>\n",
       "      <th>COPD</th>\n",
       "      <td>-0.435512042</td>\n",
       "      <td>-0.295590297</td>\n",
       "    </tr>\n",
       "    <tr>\n",
       "      <th>DENTAL</th>\n",
       "      <td>-0.365434214</td>\n",
       "      <td>-0.340759987</td>\n",
       "    </tr>\n",
       "  </tbody>\n",
       "</table>\n",
       "</div>"
      ],
      "text/plain": [
       "                    low         high\n",
       "CASTHMA     0.621850651  0.742809070\n",
       "CSMOKING    0.397214678  0.445847121\n",
       "PAPTEST     0.223031849  0.259492818\n",
       "LPA         0.215645616  0.254335557\n",
       "BPMED       0.218996327  0.247159740\n",
       "CANCER      0.028865204  0.166892003\n",
       "MAMMOUSE    0.102622583  0.137949917\n",
       "COREW       0.094223728  0.126570871\n",
       "ACCESS2     0.024244223  0.046084625\n",
       "COREM       0.004462104  0.038575359\n",
       "CHECKUP    -0.078381608 -0.045255365\n",
       "CHOLSCREEN -0.109752042 -0.071585166\n",
       "SLEEP      -0.194267107 -0.157372770\n",
       "COPD       -0.435512042 -0.295590297\n",
       "DENTAL     -0.365434214 -0.340759987"
      ]
     },
     "execution_count": 11,
     "metadata": {},
     "output_type": "execute_result"
    }
   ],
   "source": [
    "#Set the alpha for confidence interval sizes\n",
    "alpha = .05\n",
    "\n",
    "#Obtain Coefficient confidence intervals\n",
    "conf_ints = m3.conf_int(alpha=alpha)\n",
    "conf_ints.columns =['low','high']\n",
    "conf_ints.sort_values('high',ascending=False)"
   ]
  },
  {
   "cell_type": "markdown",
   "metadata": {},
   "source": [
    "<H2> Some findings jump out off the screen. 1.) 2 out of 4 of the top 4 predictive features of populations with high obesity are negative behaviours. Being a smoker and having asthma are high predictive features of high obesity. The 5th, taking Blood pressure medication could be due to the correlation between obesity and high blood pressure, hence those populations would take blood pressure medication.</H2>\n",
    "\n",
    "<H3> There are a couple features which don't make a sense to me. First, populations that have had higher rates of pap smear tests among those who didn't have a hysterectomy are a strong indicator of high obesity. Contextually, this doesn't fit. Also, Populations with higher rates of COPD are indicators of lower rates of obesity. This could be due to collinearity</H3> \n",
    "\n",
    "<H4> I'd like to do a couple things at this point. Remove features that dont make sense contextually to increasing Obesity (Having a papsmear test, a mammogram, or the correlation between BPMED and OBESITY) and then perform a PCA to remove some of the collinearity that may be happening.</H4>"
   ]
  },
  {
   "cell_type": "code",
   "execution_count": 12,
   "metadata": {},
   "outputs": [
    {
     "name": "stdout",
     "output_type": "stream",
     "text": [
      "AIC Change: 2153.1789\n",
      "                            OLS Regression Results                            \n",
      "==============================================================================\n",
      "Dep. Variable:                OBESITY   R-squared:                       0.988\n",
      "Model:                            OLS   Adj. R-squared:                  0.988\n",
      "Method:                 Least Squares   F-statistic:                 1.392e+05\n",
      "Date:                Tue, 10 Apr 2018   Prob (F-statistic):               0.00\n",
      "Time:                        09:30:08   Log-Likelihood:                 40174.\n",
      "No. Observations:               20398   AIC:                        -8.032e+04\n",
      "Df Residuals:                   20386   BIC:                        -8.023e+04\n",
      "Df Model:                          12                                         \n",
      "Covariance Type:            nonrobust                                         \n",
      "==============================================================================\n",
      "                 coef    std err          t      P>|t|      [0.025      0.975]\n",
      "------------------------------------------------------------------------------\n",
      "ACCESS2        0.1654      0.005     36.015      0.000       0.156       0.174\n",
      "CANCER         0.2878      0.035      8.250      0.000       0.219       0.356\n",
      "CASTHMA        1.1165      0.030     37.727      0.000       1.058       1.174\n",
      "CHECKUP        0.0427      0.008      5.437      0.000       0.027       0.058\n",
      "CHOLSCREEN     0.2185      0.007     30.982      0.000       0.205       0.232\n",
      "COPD          -0.7301      0.035    -20.796      0.000      -0.799      -0.661\n",
      "COREM          0.0294      0.009      3.326      0.001       0.012       0.047\n",
      "COREW          0.1404      0.008     16.641      0.000       0.124       0.157\n",
      "CSMOKING       0.5648      0.013     45.024      0.000       0.540       0.589\n",
      "DENTAL        -0.2562      0.006    -44.869      0.000      -0.267      -0.245\n",
      "LPA            0.2338      0.009     25.572      0.000       0.216       0.252\n",
      "SLEEP         -0.1610      0.010    -16.854      0.000      -0.180      -0.142\n",
      "==============================================================================\n",
      "Omnibus:                      634.273   Durbin-Watson:                   1.997\n",
      "Prob(Omnibus):                  0.000   Jarque-Bera (JB):              780.770\n",
      "Skew:                          -0.377   Prob(JB):                    2.87e-170\n",
      "Kurtosis:                       3.591   Cond. No.                         265.\n",
      "==============================================================================\n",
      "\n",
      "Warnings:\n",
      "[1] Standard Errors assume that the covariance matrix of the errors is correctly specified.\n"
     ]
    }
   ],
   "source": [
    "drop_noncontext= np.array(['MAMMOUSE','PAPTEST','BPMED'])\n",
    "Xtrain_dropped = Xtrain.drop(np.concatenate([drop_effects_of_obesity,drop_high_pval,drop_high_pval2,drop_noncontext]),axis=1)\n",
    "\n",
    "# Retrain model without dropped features\n",
    "m4 = sm.OLS(ytrain,Xtrain_dropped).fit()\n",
    "print('AIC Change: {0:.4f}'.format(m4.aic-m3.aic))\n",
    "print(m4.summary())"
   ]
  },
  {
   "cell_type": "markdown",
   "metadata": {},
   "source": [
    "<h2> We see a small drop in R2 from .989 to .988 and an AIC increase of 2153. It's not as bad as some of the other drops but it is fairly large.\n",
    "\n",
    "We still see COPD as a strong indicator of low obesity, in which the correlation between Obestity and COPD is high (.75). Let's perform PCA to see if we can reduce some collinearity.</h2>"
   ]
  },
  {
   "cell_type": "code",
   "execution_count": 13,
   "metadata": {},
   "outputs": [
    {
     "data": {
      "text/plain": [
       "array([  7.14813208e-01,   1.27158725e-01,   5.99467694e-02,\n",
       "         4.41207999e-02,   1.80706697e-02,   1.16031691e-02,\n",
       "         8.55377211e-03,   6.68148811e-03,   5.85873662e-03,\n",
       "         1.94021698e-03,   8.50057960e-04,   4.02386421e-04])"
      ]
     },
     "execution_count": 13,
     "metadata": {},
     "output_type": "execute_result"
    }
   ],
   "source": [
    "#Initialize and fit NMF\n",
    "pca = PCA()\n",
    "pca.fit(Xtrain_dropped)\n",
    "Xtrain_PCA = pca.transform(Xtrain_dropped)\n",
    "pca.explained_variance_ratio_"
   ]
  },
  {
   "cell_type": "code",
   "execution_count": 14,
   "metadata": {},
   "outputs": [
    {
     "name": "stdout",
     "output_type": "stream",
     "text": [
      "AIC Change: 88950.6349\n",
      "                            OLS Regression Results                            \n",
      "==============================================================================\n",
      "Dep. Variable:                OBESITY   R-squared:                       0.055\n",
      "Model:                            OLS   Adj. R-squared:                  0.055\n",
      "Method:                 Least Squares   F-statistic:                     99.73\n",
      "Date:                Tue, 10 Apr 2018   Prob (F-statistic):          1.44e-241\n",
      "Time:                        09:30:09   Log-Likelihood:                -4301.7\n",
      "No. Observations:               20398   AIC:                             8627.\n",
      "Df Residuals:                   20386   BIC:                             8722.\n",
      "Df Model:                          12                                         \n",
      "Covariance Type:            nonrobust                                         \n",
      "==============================================================================\n",
      "                 coef    std err          t      P>|t|      [0.025      0.975]\n",
      "------------------------------------------------------------------------------\n",
      "x1             0.2875      0.010     29.504      0.000       0.268       0.307\n",
      "x2            -0.2911      0.023    -12.599      0.000      -0.336      -0.246\n",
      "x3            -0.3497      0.034    -10.392      0.000      -0.416      -0.284\n",
      "x4            -0.0908      0.039     -2.314      0.021      -0.168      -0.014\n",
      "x5            -0.1228      0.061     -2.003      0.045      -0.243      -0.003\n",
      "x6             0.0487      0.076      0.637      0.524      -0.101       0.199\n",
      "x7            -0.1822      0.089     -2.045      0.041      -0.357      -0.008\n",
      "x8            -0.3746      0.101     -3.716      0.000      -0.572      -0.177\n",
      "x9            -0.2237      0.108     -2.078      0.038      -0.435      -0.013\n",
      "x10           -0.2053      0.187     -1.098      0.272      -0.572       0.161\n",
      "x11           -1.2685      0.283     -4.488      0.000      -1.822      -0.715\n",
      "x12            1.0136      0.411      2.467      0.014       0.208       1.819\n",
      "==============================================================================\n",
      "Omnibus:                      375.464   Durbin-Watson:                   0.025\n",
      "Prob(Omnibus):                  0.000   Jarque-Bera (JB):              410.343\n",
      "Skew:                          -0.309   Prob(JB):                     7.86e-90\n",
      "Kurtosis:                       3.316   Cond. No.                         42.1\n",
      "==============================================================================\n",
      "\n",
      "Warnings:\n",
      "[1] Standard Errors assume that the covariance matrix of the errors is correctly specified.\n"
     ]
    }
   ],
   "source": [
    "# Retrain model without dropped features\n",
    "m5 = sm.OLS(ytrain,Xtrain_PCA).fit()\n",
    "print('AIC Change: {0:.4f}'.format(m5.aic-m4.aic))\n",
    "print(m5.summary())"
   ]
  },
  {
   "cell_type": "markdown",
   "metadata": {},
   "source": [
    "<h2> PCA has no value to this data. Lets Try NFM </h2>"
   ]
  },
  {
   "cell_type": "code",
   "execution_count": 15,
   "metadata": {
    "scrolled": false
   },
   "outputs": [
    {
     "name": "stdout",
     "output_type": "stream",
     "text": [
      "AIC Change: 1467.9027\n",
      "                            OLS Regression Results                            \n",
      "==============================================================================\n",
      "Dep. Variable:                OBESITY   R-squared:                       0.987\n",
      "Model:                            OLS   Adj. R-squared:                  0.987\n",
      "Method:                 Least Squares   F-statistic:                 1.294e+05\n",
      "Date:                Tue, 10 Apr 2018   Prob (F-statistic):               0.00\n",
      "Time:                        09:30:11   Log-Likelihood:                 39440.\n",
      "No. Observations:               20398   AIC:                        -7.886e+04\n",
      "Df Residuals:                   20386   BIC:                        -7.876e+04\n",
      "Df Model:                          12                                         \n",
      "Covariance Type:            nonrobust                                         \n",
      "==============================================================================\n",
      "                 coef    std err          t      P>|t|      [0.025      0.975]\n",
      "------------------------------------------------------------------------------\n",
      "x1             0.0618      0.001     50.793      0.000       0.059       0.064\n",
      "x2             1.3375      0.012    112.487      0.000       1.314       1.361\n",
      "x3             0.1548      0.004     40.456      0.000       0.147       0.162\n",
      "x4             0.1475      0.003     49.850      0.000       0.142       0.153\n",
      "x5             0.0182      0.001     12.923      0.000       0.015       0.021\n",
      "x6             1.1191      0.020     55.109      0.000       1.079       1.159\n",
      "x7             0.2777      0.006     43.566      0.000       0.265       0.290\n",
      "x8             0.2248      0.003     73.831      0.000       0.219       0.231\n",
      "x9            -0.0258      0.003     -7.393      0.000      -0.033      -0.019\n",
      "x10            0.0965      0.009     10.262      0.000       0.078       0.115\n",
      "x11            0.1798      0.006     30.201      0.000       0.168       0.191\n",
      "x12            0.2674      0.007     38.199      0.000       0.254       0.281\n",
      "==============================================================================\n",
      "Omnibus:                      775.334   Durbin-Watson:                   1.994\n",
      "Prob(Omnibus):                  0.000   Jarque-Bera (JB):             1094.343\n",
      "Skew:                          -0.385   Prob(JB):                    2.33e-238\n",
      "Kurtosis:                       3.834   Cond. No.                         97.1\n",
      "==============================================================================\n",
      "\n",
      "Warnings:\n",
      "[1] Standard Errors assume that the covariance matrix of the errors is correctly specified.\n"
     ]
    }
   ],
   "source": [
    "nmf = NMF()\n",
    "Xtrain_NMF = nmf.fit_transform(Xtrain_dropped)\n",
    "\n",
    "# Retrain model with NMF\n",
    "m5 = sm.OLS(ytrain,Xtrain_NMF).fit()\n",
    "print('AIC Change: {0:.4f}'.format(m5.aic-m4.aic))\n",
    "print(m5.summary())"
   ]
  },
  {
   "cell_type": "markdown",
   "metadata": {},
   "source": [
    "<h2>It looks like there are three features that are most important to the model. Let's select them to see which inputs to the NMF are important to those Features</h2>"
   ]
  },
  {
   "cell_type": "code",
   "execution_count": 16,
   "metadata": {},
   "outputs": [
    {
     "data": {
      "text/plain": [
       "<matplotlib.text.Text at 0xcc27438>"
      ]
     },
     "execution_count": 16,
     "metadata": {},
     "output_type": "execute_result"
    },
    {
     "data": {
      "image/png": "[encoded data removed]",
      "text/plain": [
       "<matplotlib.figure.Figure at 0xd1d8828>"
      ]
     },
     "metadata": {},
     "output_type": "display_data"
    }
   ],
   "source": [
    "import seaborn as sns\n",
    "fig = plt.figure(figsize=(18,5))\n",
    "sns.heatmap(pd.DataFrame(nmf.components_,columns=Xtrain_dropped.columns).iloc[[4,6,11],:],annot=True,cmap='inferno')\n",
    "plt.title('NMF Components')"
   ]
  },
  {
   "cell_type": "markdown",
   "metadata": {},
   "source": [
    "<h2> Access to health insurance seems to be an important input as it hits two of these high effecient features. We also see some of the other causes that we noted earlier like low physical activity, being a smoker, and having asthma. It's interesting to note that Sleep is now coming in as well in the feature that has the highest coefficients</h2>"
   ]
  },
  {
   "cell_type": "code",
   "execution_count": 17,
   "metadata": {},
   "outputs": [
    {
     "name": "stdout",
     "output_type": "stream",
     "text": [
      "Cross Fold Validation with untouched data\n",
      "Linear Regression R2: 0.8267\n",
      "Linear Regression Cross Val Score: [ 0.82175699  0.82753836  0.83009496  0.83033927  0.82593027]\n"
     ]
    },
    {
     "data": {
      "text/html": [
       "<div>\n",
       "<style>\n",
       "    .dataframe thead tr:only-child th {\n",
       "        text-align: right;\n",
       "    }\n",
       "\n",
       "    .dataframe thead th {\n",
       "        text-align: left;\n",
       "    }\n",
       "\n",
       "    .dataframe tbody tr th {\n",
       "        vertical-align: top;\n",
       "    }\n",
       "</style>\n",
       "<table border=\"1\" class=\"dataframe\">\n",
       "  <thead>\n",
       "    <tr style=\"text-align: right;\">\n",
       "      <th></th>\n",
       "      <th>CASTHMA</th>\n",
       "      <th>CSMOKING</th>\n",
       "      <th>ACCESS2</th>\n",
       "      <th>CANCER</th>\n",
       "      <th>CHOLSCREEN</th>\n",
       "      <th>LPA</th>\n",
       "      <th>COREW</th>\n",
       "      <th>COREM</th>\n",
       "      <th>CHECKUP</th>\n",
       "      <th>SLEEP</th>\n",
       "      <th>DENTAL</th>\n",
       "      <th>COPD</th>\n",
       "    </tr>\n",
       "  </thead>\n",
       "  <tbody>\n",
       "    <tr>\n",
       "      <th>Coefs</th>\n",
       "      <td>1.396864051</td>\n",
       "      <td>0.621190599</td>\n",
       "      <td>0.311703723</td>\n",
       "      <td>0.304106784</td>\n",
       "      <td>0.278576687</td>\n",
       "      <td>0.185170561</td>\n",
       "      <td>0.104774905</td>\n",
       "      <td>0.080518520</td>\n",
       "      <td>0.015837058</td>\n",
       "      <td>-0.056606291</td>\n",
       "      <td>-0.125339555</td>\n",
       "      <td>-0.736287060</td>\n",
       "    </tr>\n",
       "  </tbody>\n",
       "</table>\n",
       "</div>"
      ],
      "text/plain": [
       "          CASTHMA    CSMOKING     ACCESS2      CANCER  CHOLSCREEN         LPA  \\\n",
       "Coefs 1.396864051 0.621190599 0.311703723 0.304106784 0.278576687 0.185170561   \n",
       "\n",
       "            COREW       COREM     CHECKUP        SLEEP       DENTAL  \\\n",
       "Coefs 0.104774905 0.080518520 0.015837058 -0.056606291 -0.125339555   \n",
       "\n",
       "              COPD  \n",
       "Coefs -0.736287060  "
      ]
     },
     "execution_count": 17,
     "metadata": {},
     "output_type": "execute_result"
    }
   ],
   "source": [
    "def scorer(model,X,y):\n",
    "    model.fit(X,y)\n",
    "    ypred = model.predict(X)\n",
    "    return r2_score(y,ypred)\n",
    "\n",
    "lr = LinearRegression()\n",
    "lr.fit(Xtrain_dropped,ytrain)\n",
    "print('Cross Fold Validation with untouched data')\n",
    "print('Linear Regression R2: {:.4f}'.format(lr.score(Xtrain_dropped,ytrain)))\n",
    "print('Linear Regression Cross Val Score: {}'.format(cross_val_score(lr,Xtrain_dropped,ytrain,cv=5,scoring=scorer)))\n",
    "pd.DataFrame(lr.coef_,index=Xtrain_dropped.columns,columns=['Coefs']).sort_values('Coefs',ascending=False).T"
   ]
  },
  {
   "cell_type": "code",
   "execution_count": 18,
   "metadata": {},
   "outputs": [
    {
     "name": "stdout",
     "output_type": "stream",
     "text": [
      "Cross Fold Validation With NMF data\n",
      "Linear Regression R2: 0.809\n",
      "Linear Regression Cross Val Score: [ 0.8028236   0.80965332  0.81215982  0.81173288  0.81308568]\n"
     ]
    }
   ],
   "source": [
    "#USING NMF\n",
    "lr_NMF = LinearRegression()\n",
    "lr_NMF.fit(Xtrain_NMF,ytrain)\n",
    "print('Cross Fold Validation With NMF data')\n",
    "print('Linear Regression R2: {:.3f}'.format(lr_NMF.score(Xtrain_NMF,ytrain)))\n",
    "print('Linear Regression Cross Val Score: {}'.format(cross_val_score(lr_NMF,Xtrain_NMF,ytrain,cv=5,scoring=scorer)))\n"
   ]
  },
  {
   "cell_type": "markdown",
   "metadata": {},
   "source": [
    "<H2>It looks like the non decomposed data performs better. Let's see how it performs on the untouched data set</H2>"
   ]
  },
  {
   "cell_type": "code",
   "execution_count": 19,
   "metadata": {},
   "outputs": [
    {
     "name": "stdout",
     "output_type": "stream",
     "text": [
      "Linear Regression Holdout Data Score: 0.831\n"
     ]
    }
   ],
   "source": [
    "Xtest_dropped = Xtest.drop(np.concatenate([drop_effects_of_obesity,drop_high_pval,drop_high_pval2,drop_noncontext]),axis=1)\n",
    "print('Linear Regression Holdout Data Score: {:.3f}'.format(r2_score(ytest,lr.predict(Xtest_dropped))))"
   ]
  },
  {
   "cell_type": "markdown",
   "metadata": {},
   "source": [
    "<H2> This model fits fairly well and is generalized very well too. The only way we'd want to change it is if we can get a better score. I'll try building with a Ridge Regression, Lasso, and a random forest</H2>"
   ]
  },
  {
   "cell_type": "code",
   "execution_count": 20,
   "metadata": {},
   "outputs": [
    {
     "name": "stdout",
     "output_type": "stream",
     "text": [
      "Using GridSearchCV to find the best alpha in a Lasso regression\n",
      "Best Alpha: 0.0000\n",
      "Best Score: 0.8264\n"
     ]
    }
   ],
   "source": [
    "#filter out warnings for using alpha=0\n",
    "import warnings\n",
    "warnings.filterwarnings('ignore')\n",
    "print('Using GridSearchCV to find the best alpha in a Lasso regression')\n",
    "alphas = np.linspace(0,1,20)\n",
    "params = {'alpha':alphas}\n",
    "\n",
    "lasso = Lasso()\n",
    "grid = GridSearchCV(lasso,params,cv=5)\n",
    "grid.fit(Xtrain_dropped,ytrain)\n",
    "best_alpha = grid.best_params_['alpha']\n",
    "best_score = grid.best_score_\n",
    "print('Best Alpha: {:.4f}'.format(best_alpha))\n",
    "print('Best Score: {:.4f}'.format(best_score))\n",
    "warnings.filterwarnings('default')"
   ]
  },
  {
   "cell_type": "markdown",
   "metadata": {},
   "source": [
    "<h4>This is not a very good score and a closer look at the predicted values of the Xtraining data shows it doesn't fit to this data very well.</h4>"
   ]
  },
  {
   "cell_type": "code",
   "execution_count": 21,
   "metadata": {
    "scrolled": false
   },
   "outputs": [
    {
     "name": "stdout",
     "output_type": "stream",
     "text": [
      "Score on holdout data: 0.8307\n"
     ]
    }
   ],
   "source": [
    "warnings.filterwarnings('ignore')\n",
    "lasso = Lasso(alpha=best_alpha)\n",
    "lasso.fit(Xtrain_dropped,ytrain)\n",
    "ypred = lasso.predict(Xtrain_dropped)\n",
    "ypred = lasso.predict(Xtest_dropped)\n",
    "print('Score on holdout data: {:.4f}'.format(r2_score(ytest,ypred)))\n",
    "warnings.filterwarnings('default')"
   ]
  },
  {
   "cell_type": "code",
   "execution_count": 22,
   "metadata": {},
   "outputs": [
    {
     "name": "stdout",
     "output_type": "stream",
     "text": [
      "Next, I'll use GridSearchCV with Ridge Regression to see if there is an optimum Alpha to obtain a better score\n",
      "Best Alpha: 0.0000\n",
      "Best Score: 0.8264\n"
     ]
    }
   ],
   "source": [
    "print('Next, I\\'ll use GridSearchCV with Ridge Regression to see if there is an optimum Alpha to obtain a better score')\n",
    "alphas = np.linspace(0,1,20)\n",
    "params = {'alpha':alphas}\n",
    "\n",
    "ridge = Ridge()\n",
    "grid = GridSearchCV(ridge,params,cv=5)\n",
    "grid.fit(Xtrain_dropped,ytrain)\n",
    "best_alpha = grid.best_params_['alpha']\n",
    "best_score = grid.best_score_\n",
    "print('Best Alpha: {:.4f}'.format(best_alpha))\n",
    "print('Best Score: {:.4f}'.format(best_score))"
   ]
  },
  {
   "cell_type": "markdown",
   "metadata": {},
   "source": [
    "<h4>This score is almost identical to that of the the LinearRegression model with no alpha. In fact, when we compare it to the holdout data, we get almost the same score as on the Linear Regression as well. This is because the best alpha is 0 and is the same as a Linear Regression Model</h4>"
   ]
  },
  {
   "cell_type": "code",
   "execution_count": 23,
   "metadata": {},
   "outputs": [
    {
     "name": "stdout",
     "output_type": "stream",
     "text": [
      "Ridge Model Tested on Unseen Data\n",
      "Score on holdout data: 0.8307\n"
     ]
    }
   ],
   "source": [
    "print('Ridge Model Tested on Unseen Data')\n",
    "ridge = Ridge(alpha=best_alpha)\n",
    "ridge.fit(Xtrain_dropped,ytrain)\n",
    "ypred = ridge.predict(Xtest_dropped)\n",
    "print('Score on holdout data: {:.4f}'.format(r2_score(ytest,ypred)))"
   ]
  },
  {
   "cell_type": "markdown",
   "metadata": {},
   "source": [
    "<h2>Finally, let's see how a random forests model fits this data</h2>"
   ]
  },
  {
   "cell_type": "code",
   "execution_count": 26,
   "metadata": {},
   "outputs": [
    {
     "name": "stdout",
     "output_type": "stream",
     "text": [
      "RS Score: 0.9852\n"
     ]
    }
   ],
   "source": [
    "from sklearn.ensemble import RandomForestRegressor\n",
    "randforest= RandomForestRegressor()\n",
    "randforest.fit(Xtrain_dropped,ytrain)\n",
    "ypred = randforest.predict(Xtrain_dropped)\n",
    "print('RS Score: {:.4f}'.format(r2_score(ytrain,ypred)))"
   ]
  },
  {
   "cell_type": "markdown",
   "metadata": {},
   "source": [
    "<h4>Our random forests regressor fits the data very well. Let's see how it performs when we generalize it with Cross Validation</h4>"
   ]
  },
  {
   "cell_type": "code",
   "execution_count": 25,
   "metadata": {},
   "outputs": [
    {
     "data": {
      "text/plain": [
       "array([ 0.97933849,  0.97792789,  0.9778797 ,  0.98025556,  0.98007792])"
      ]
     },
     "execution_count": 25,
     "metadata": {},
     "output_type": "execute_result"
    }
   ],
   "source": [
    "cross_val_score(randforest,Xtrain_dropped,ytrain,cv=5,scoring=scorer)"
   ]
  },
  {
   "cell_type": "markdown",
   "metadata": {},
   "source": [
    "<h2> It looks like it generalizes well too. </h2>\n",
    "\n",
    "<h2> While this is a better model than Linear Regression (LR), we may want to consider using the LR over this. We are able to get the output of the LR and specifically what may be causing the increases in % of the population that is Obese while with the random forest, we are not able to see the outputs of the model. </h2>"
   ]
  },
  {
   "cell_type": "code",
   "execution_count": null,
   "metadata": {
    "collapsed": true
   },
   "outputs": [],
   "source": []
  }
 ],
 "metadata": {
  "kernelspec": {
   "display_name": "Python [default]",
   "language": "python",
   "name": "python3"
  },
  "language_info": {
   "codemirror_mode": {
    "name": "ipython",
    "version": 3
   },
   "file_extension": ".py",
   "mimetype": "text/x-python",
   "name": "python",
   "nbconvert_exporter": "python",
   "pygments_lexer": "ipython3",
   "version": "3.6.0"
  }
 },
 "nbformat": 4,
 "nbformat_minor": 2
}
