{
 "cells": [
  {
   "cell_type": "markdown",
   "metadata": {},
   "source": [
    "## Why 500city_synthesize Workbook?\n",
    "The purpose of this workbook is to extract the 500city data from the cdc, clean the information into a tidy format, and saved to csv to explore in other workbooks."
   ]
  },
  {
   "cell_type": "code",
   "execution_count": 1,
   "metadata": {
    "collapsed": true
   },
   "outputs": [],
   "source": [
    "#Standard Imports\n",
    "import pandas as pd\n",
    "import numpy as np\n",
    "import matplotlib.pyplot as plt\n",
    "import seaborn as sns"
   ]
  },
  {
   "cell_type": "markdown",
   "metadata": {},
   "source": [
    "## Pull data from cdc using their Socrata api import\n",
    "To use, pip install sodapy prior to running"
   ]
  },
  {
   "cell_type": "code",
   "execution_count": 2,
   "metadata": {},
   "outputs": [
    {
     "name": "stdout",
     "output_type": "stream",
     "text": [
      "Done!\n"
     ]
    }
   ],
   "source": [
    "#Import api pull Socrata to pull from CDC system\n",
    "from sodapy import Socrata\n",
    "\n",
    "# Get Data From CDC Socrata App\n",
    "app_token = 'pqDy7wkIUuirGdAd00ekO0bh5'\n",
    "client = Socrata(\"chronicdata.cdc.gov\", app_token=app_token)\n",
    "results = client.get(\"csmm-fdhi\", limit=900000)\n",
    "\n",
    "# Convert data pull results to pandas DataFrame\n",
    "df = pd.DataFrame.from_records(results)\n",
    "\n",
    "# Convert data value columns to numeric and change to percent\n",
    "df['data_value'] =pd.to_numeric(df['data_value'])/100.0\n",
    "df['high_confidence_limit'] = pd.to_numeric(df['high_confidence_limit'])/100.0\n",
    "df['low_confidence_limit'] = pd.to_numeric(df['low_confidence_limit'])/100.0\n",
    "\n",
    "# Convert population column to numeric\n",
    "df['populationcount'] = pd.to_numeric(df['populationcount'])\n",
    "\n",
    "print('Done!')"
   ]
  },
  {
   "cell_type": "markdown",
   "metadata": {},
   "source": [
    "## Create lists of columns for 3 data frames, locations data, data definitions, and actual data"
   ]
  },
  {
   "cell_type": "code",
   "execution_count": 3,
   "metadata": {},
   "outputs": [
    {
     "name": "stdout",
     "output_type": "stream",
     "text": [
      "Done!\n"
     ]
    }
   ],
   "source": [
    "locations_columns = ['uniqueid','stateabbr',\n",
    "                     'cityname','geographiclevel',\n",
    "                     'tractfips','cityfips',\n",
    "                     'geolocation','statedesc']\n",
    "\n",
    "data_def_columns = ['categoryid','category',\n",
    "                    'measureid','short_question_text',\n",
    "                    'measure','data_value_type']\n",
    "\n",
    "data_columns = ['categoryid', 'data_value', \n",
    "               'data_value_footnote',\n",
    "               'data_value_footnote_symbol', 'datavaluetypeid', \n",
    "               'geolocation','high_confidence_limit', \n",
    "               'low_confidence_limit', 'populationcount',\n",
    "               'stateabbr', 'uniqueid','measureid', 'year']\n",
    "print('Done!')"
   ]
  },
  {
   "cell_type": "markdown",
   "metadata": {},
   "source": [
    "## Build locations Dataframe and save to csv"
   ]
  },
  {
   "cell_type": "code",
   "execution_count": 4,
   "metadata": {},
   "outputs": [
    {
     "name": "stdout",
     "output_type": "stream",
     "text": [
      "Done!\n"
     ]
    }
   ],
   "source": [
    "def coordinates(x,pos):\n",
    "    '''Function to separate coordinates of geolocation column, x is pd.series, pos is list position'''\n",
    "    if type(x)==dict:\n",
    "        return x['coordinates'][pos]\n",
    "    else:\n",
    "        return np.nan\n",
    "\n",
    "#Build Locations DF and save to csv\n",
    "locations_df = df[locations_columns].copy()\n",
    "locations_df['latitude'] = locations_df['geolocation'].apply(coordinates,pos=0)\n",
    "locations_df['longitude'] = locations_df['geolocation'].apply(coordinates,pos=1)\n",
    "del locations_df['geolocation']\n",
    "locations_df = locations_df.drop_duplicates().sort_values('uniqueid')\n",
    "locations_df.to_csv('../data/cleansed/locations.csv')\n",
    "print('Done!')"
   ]
  },
  {
   "cell_type": "markdown",
   "metadata": {},
   "source": [
    "## Build Data Definitions Dataframe and Save To Csv"
   ]
  },
  {
   "cell_type": "code",
   "execution_count": 5,
   "metadata": {},
   "outputs": [
    {
     "name": "stdout",
     "output_type": "stream",
     "text": [
      "Done!\n"
     ]
    }
   ],
   "source": [
    "df_data_def = df[data_def_columns].copy()\n",
    "df_data_def = df_data_def.drop_duplicates()\n",
    "df_data_def.to_csv('../data/cleansed/data_def.csv')\n",
    "print('Done!')"
   ]
  },
  {
   "cell_type": "markdown",
   "metadata": {},
   "source": [
    "## Build Data Dataframe, pivot to tidy standards, and save to csv"
   ]
  },
  {
   "cell_type": "code",
   "execution_count": 7,
   "metadata": {
    "collapsed": true
   },
   "outputs": [],
   "source": [
    "df_data = df[data_columns].copy()\n",
    "\n",
    "df_data_piv = df_data.pivot_table(values='data_value',\n",
    "                          index=['uniqueid','datavaluetypeid','populationcount'],\n",
    "                          columns='measureid',aggfunc=np.sum)\n",
    "df_data_piv.reset_index(inplace=True)\n",
    "\n",
    "# Save data where population count is > 50 (CDC website withholds data for population counts < 50)\n",
    "df_data_piv[df_data_piv['populationcount']>50].to_csv('../data/cleansed/data.csv')"
   ]
  },
  {
   "cell_type": "markdown",
   "metadata": {},
   "source": [
    "## Finished synthesizing data - see 500city_tidy to explore the data"
   ]
  }
 ],
 "metadata": {
  "kernelspec": {
   "display_name": "Python 3",
   "language": "python",
   "name": "python3"
  },
  "language_info": {
   "codemirror_mode": {
    "name": "ipython",
    "version": 3
   },
   "file_extension": ".py",
   "mimetype": "text/x-python",
   "name": "python",
   "nbconvert_exporter": "python",
   "pygments_lexer": "ipython3",
   "version": "3.6.1"
  }
 },
 "nbformat": 4,
 "nbformat_minor": 2
}
